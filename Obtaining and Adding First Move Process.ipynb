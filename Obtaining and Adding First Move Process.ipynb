{
 "cells": [
  {
   "cell_type": "markdown",
   "id": "2830a717",
   "metadata": {},
   "source": [
    "After looking at the data, I came to the conclusion that there were far too many openings with the same opening moves (over 3000). Instead of looking at the opening name, I decided it was best to look at white's first move. I kept black's first move as I think a response to white would also bring in some interesting data. \n",
    "\n",
    "The issue that came up while attempting to extract the move data, is that not every recorded game had a move. Some lost due to abandonment prior to the game beginning. In terms of collecting data, I could not run the same code as before as doing so, would skip the games that did not have moves played and would move the indexes of the games all around as to make it impossible to reference. \n",
    "\n",
    "The first solution I came up with was to match the opening names to a library of openings and bring the moves along with it. Unfortunately, the data provided by lichess did not match entirely and over 300 opening names differed between the data set and the opening library resulting in about 2 million incomplete rows of data. So back to the drawing board. \n",
    "\n",
    "The solution that I came up with was to write code telling the program to look at the beginning of a game and to look for moves before the following game started. If moves were not present in that specific game, the program would put “None” in its place. I also pulled the \"Site\" (`Game URL`) information to be able to merge it with the larget database later on. Dealing with 200+ gb of data and doing the above became extremely memory intensive and would crash my computer (several times). The solution is the code that follows. I split the data up into smaller chunks (10 million games per file), made dataframes of the data, and then used `pd.concat` to combine these numerous csv files. This was done through several notebooks, but for simplicity, I will combine below. \n"
   ]
  },
  {
   "cell_type": "markdown",
   "id": "0886dfe0",
   "metadata": {},
   "source": [
    "__Notebook 1: Dividing the data up into multiple files.__"
   ]
  },
  {
   "cell_type": "code",
   "execution_count": null,
   "id": "97a76d3c",
   "metadata": {},
   "outputs": [],
   "source": [
    "# The \"os\" module provides a way of using operating system dependent functionality like reading or writing to the file system, manipulating paths, etc. \n",
    "import os"
   ]
  },
  {
   "cell_type": "code",
   "execution_count": null,
   "id": "7e36e7ac",
   "metadata": {},
   "outputs": [],
   "source": [
    "# pgn_file is the source file\n",
    "pgn_file = r'C:\\Users\\PC\\Desktop\\Springboard Data Science Career Track\\Springboard - github\\lichess_db_standard_rated_2022_08.pgn'\n",
    "# game_per_file is how many games per file before the code tells the program to create a new target file.\n",
    "games_per_file = 10000000 # set the number of games to write per file\n",
    "# output_dir is the directory where these files will be stored. \n",
    "output_dir = r\"C:\\Users\\PC\\Desktop\\Springboard Data Science Career Track\\Springboard - github\\DataScience Capstone 2\\split pgn\""
   ]
  },
  {
   "cell_type": "code",
   "execution_count": null,
   "id": "44269cae",
   "metadata": {},
   "outputs": [],
   "source": [
    "with open(pgn_file) as f:\n",
    "    game_lines = []\n",
    "    game_count = 0\n",
    "    file_count = 0\n",
    "    for line in f:\n",
    "        if line.startswith(\"[Event\"):\n",
    "            if game_lines:\n",
    "                game_count += 1\n",
    "                if game_count % games_per_file == 1:\n",
    "                    output_file = os.path.join(output_dir, f'games_{file_count}.pgn')\n",
    "                    with open(output_file, 'w') as outfile:\n",
    "                        outfile.write(\"\".join(game_lines))\n",
    "                    game_lines = []\n",
    "                    file_count += 1\n",
    "            if game_count >= 92670441:  # set the total number of games to read\n",
    "                break\n",
    "        game_lines.append(line)\n",
    "    if game_lines:\n",
    "        output_file = os.path.join(output_dir, f'games_{file_count}.pgn')\n",
    "        with open(output_file, 'w') as outfile:\n",
    "            outfile.write(\"\".join(game_lines))"
   ]
  },
  {
   "cell_type": "markdown",
   "id": "1dac788e",
   "metadata": {},
   "source": [
    "__Notebook 2: Pulling First Move and URL data from files__"
   ]
  },
  {
   "cell_type": "code",
   "execution_count": null,
   "id": "52a01228",
   "metadata": {},
   "outputs": [],
   "source": [
    "import re\n",
    "import pandas as pd"
   ]
  },
  {
   "cell_type": "code",
   "execution_count": null,
   "id": "0523fff4",
   "metadata": {},
   "outputs": [],
   "source": [
    "lichess_data = r\"C:\\Users\\PC\\Desktop\\Springboard Data Science Career Track\\Springboard - github\\....txt\"\n",
    "# Loaded data from individual files created by above notebook."
   ]
  },
  {
   "cell_type": "code",
   "execution_count": null,
   "id": "99ee3ecb",
   "metadata": {},
   "outputs": [],
   "source": [
    "'''Used the below function to search for a string of information (`quote_pattern`) \n",
    "found on the same line but after the words '[Site'.  Put these into a list `game_urls`. '''\n",
    "\n",
    "def get_quoted_value(source_string):\n",
    "    quote_pattern = '\\\"(.*?)\\\"'\n",
    "    match = re.search(quote_pattern, line).group(1)\n",
    "    return match\n",
    "\n",
    "file = open(lichess_data, mode=\"r\")\n",
    "\n",
    "game_urls = []\n",
    "\n",
    "for line in file:\n",
    "\n",
    "    if line.startswith('[Site'):\n",
    "        game_urls.append(get_quoted_value(line))"
   ]
  },
  {
   "cell_type": "code",
   "execution_count": null,
   "id": "64ee1044",
   "metadata": {},
   "outputs": [],
   "source": [
    "'''This function divides games up individually by the presence of '[Event'. \n",
    "Then, it looks for the first incident of '1.' and pulled the data on the 100 \n",
    "characters following it. That many characters were pulled because some games \n",
    "included computer evaluations and clock information. That, along with a buffer, \n",
    "allowed me to make sure I pulled all the needed information. Any additional \n",
    "unwanted information, I would clean up. All of this was put into a list called `first_move`'''\n",
    "\n",
    "def get_quoted_value(game_string):\n",
    "    quote_pattern = r'1\\. (.{1,100})'\n",
    "    match = re.search(quote_pattern, game_string)\n",
    "    return match if match else None\n",
    "\n",
    "def games_from_file(filename):\n",
    "    with open(filename) as f:\n",
    "        game_lines = []\n",
    "        for line in f:\n",
    "            if line.startswith(\"[Event\"):\n",
    "                if game_lines:\n",
    "                    yield \"\".join(game_lines)\n",
    "                    game_lines = []\n",
    "            game_lines.append(line)\n",
    "        if game_lines:\n",
    "            yield \"\".join(game_lines)\n",
    "\n",
    "first_move = []\n",
    "for game in games_from_file(lichess_data):\n",
    "    first_move.append(get_quoted_value(game))"
   ]
  },
  {
   "cell_type": "code",
   "execution_count": null,
   "id": "d3527d35",
   "metadata": {},
   "outputs": [],
   "source": [
    "# Here we spot checked the data to make sure it matched. \n",
    "\n",
    "print(\"Observations of first move:\", len(first_move))\n",
    "print(\"First instance of first move:\", first_move[0])\n",
    "print(\"Observations of game urls:\", len(game_urls))\n",
    "print(\"First instance of game url:\", game_urls[0])\n",
    "\n",
    "'''Observations of first move: 50\n",
    "First instance of first move: <re.Match object; span=(369, 472), match='1. e4 { [%clk 0:01:00] } 1... g6 { [%clk 0:01:00]>\n",
    "Observations of game urls: 50\n",
    "First instance of game url: https://lichess.org/aAcMUViA'''"
   ]
  },
  {
   "cell_type": "code",
   "execution_count": null,
   "id": "a6758ebb",
   "metadata": {},
   "outputs": [],
   "source": [
    "df = pd.DataFrame(\n",
    "    {\n",
    "        'First Move': first_move, 'Game URL': game_urls\n",
    "    }\n",
    ")"
   ]
  },
  {
   "cell_type": "code",
   "execution_count": null,
   "id": "cbf2784e",
   "metadata": {},
   "outputs": [],
   "source": [
    "df.head(50) #We've got some cleaning up to do. \n",
    "'''\n",
    " \tFirst Move\tGame URL\n",
    "0\t<re.Match object; span=(369, 472), match='1. e...\thttps://lichess.org/aAcMUViA\n",
    "1\t<re.Match object; span=(390, 493), match='1. e...\thttps://lichess.org/brBOPdLj\n",
    "2\t<re.Match object; span=(383, 486), match='1. g...\thttps://lichess.org/pk0m4lj8\n",
    "3\t<re.Match object; span=(384, 487), match='1. e...\thttps://lichess.org/ZXitDcRa\n",
    "4\t<re.Match object; span=(397, 500), match='1. e...\thttps://lichess.org/j50FcHUm\n",
    "5\t<re.Match object; span=(384, 487), match='1. d...\thttps://lichess.org/p4EhmzYV\n",
    "6\t<re.Match object; span=(405, 508), match='1. N...\thttps://lichess.org/Z7H9A6pU\n",
    "7\t<re.Match object; span=(362, 465), match='1. e...\thttps://lichess.org/28cBdakU\n",
    "8\t<re.Match object; span=(384, 487), match='1. e...\thttps://lichess.org/JUDr2nbm\n",
    "9\t<re.Match object; span=(375, 478), match='1. d...\thttps://lichess.org/J9MxhpAQ\n",
    "10\t<re.Match object; span=(400, 503), match='1. d...\thttps://lichess.org/BGJcMxG1\n",
    "11\t<re.Match object; span=(367, 470), match='1. d...\thttps://lichess.org/9hQF2sHz\n",
    "12\t<re.Match object; span=(379, 482), match='1. d...\thttps://lichess.org/YqBei5k7\n",
    "13\t<re.Match object; span=(390, 493), match='1. e...\thttps://lichess.org/bVgQVZ7L\n",
    "14\t<re.Match object; span=(399, 502), match='1. e...\thttps://lichess.org/2ORvpVTt\n",
    "15\t<re.Match object; span=(410, 513), match='1. d...\thttps://lichess.org/rNNyi2Xh\n",
    "16\t<re.Match object; span=(386, 489), match='1. d...\thttps://lichess.org/cLhZKY8t\n",
    "17\t<re.Match object; span=(384, 487), match='1. e...\thttps://lichess.org/aVEa6ISS\n",
    "18\t<re.Match object; span=(388, 491), match='1. e...\thttps://lichess.org/vdSeE91t\n",
    "19\t<re.Match object; span=(395, 498), match='1. d...\thttps://lichess.org/yAst78o6\n",
    "20\t<re.Match object; span=(390, 493), match='1. e...\thttps://lichess.org/EXVNv52f\n",
    "21\t<re.Match object; span=(366, 469), match='1. e...\thttps://lichess.org/GL6ddml3\n",
    "22\t<re.Match object; span=(366, 469), match='1. e...\thttps://lichess.org/ckQWB3XK\n",
    "23\t<re.Match object; span=(375, 478), match='1. c...\thttps://lichess.org/gr7XA1AX\n",
    "24\t<re.Match object; span=(385, 488), match='1. e...\thttps://lichess.org/fVUOEiV4\n",
    "25\t<re.Match object; span=(366, 469), match='1. e...\thttps://lichess.org/dtat7uKG\n",
    "26\t<re.Match object; span=(380, 483), match='1. d...\thttps://lichess.org/7XCXdk7U\n",
    "27\t<re.Match object; span=(388, 491), match='1. c...\thttps://lichess.org/sN4MqZmZ\n",
    "28\t<re.Match object; span=(372, 475), match='1. e...\thttps://lichess.org/H0LxZAdI\n",
    "29\t<re.Match object; span=(356, 459), match='1. e...\thttps://lichess.org/tXk05aki\n",
    "30\t<re.Match object; span=(386, 489), match='1. c...\thttps://lichess.org/Y02JnbBc\n",
    "31\t<re.Match object; span=(395, 498), match='1. c...\thttps://lichess.org/DtZzhvxk\n",
    "32\t<re.Match object; span=(417, 520), match='1. e...\thttps://lichess.org/QYKbU5Dd\n",
    "33\t<re.Match object; span=(366, 469), match='1. e...\thttps://lichess.org/12PHsoUL\n",
    "34\t<re.Match object; span=(361, 464), match='1. d...\thttps://lichess.org/XTIQpN7V\n",
    "35\t<re.Match object; span=(389, 492), match='1. e...\thttps://lichess.org/OqxvE71k\n",
    "36\t<re.Match object; span=(387, 490), match='1. d...\thttps://lichess.org/iGnPqb95\n",
    "37\t<re.Match object; span=(387, 490), match='1. d...\thttps://lichess.org/enacEmlu\n",
    "38\t<re.Match object; span=(376, 479), match='1. e...\thttps://lichess.org/xSDUBVPU\n",
    "39\t<re.Match object; span=(368, 471), match='1. e...\thttps://lichess.org/QTeIYiUO\n",
    "40\t<re.Match object; span=(395, 498), match='1. e...\thttps://lichess.org/aWpqQoyO\n",
    "41\t<re.Match object; span=(395, 498), match='1. g...\thttps://lichess.org/sRONPg2H\n",
    "42\t<re.Match object; span=(370, 473), match='1. d...\thttps://lichess.org/pQHjr0aM\n",
    "43\t<re.Match object; span=(363, 466), match='1. e...\thttps://lichess.org/dthjBLOu\n",
    "44\t<re.Match object; span=(380, 483), match='1. d...\thttps://lichess.org/5HW80dFF\n",
    "45\t<re.Match object; span=(364, 467), match='1. e...\thttps://lichess.org/TD3hNUNX\n",
    "46\t<re.Match object; span=(393, 496), match='1. e...\thttps://lichess.org/hbEhPPu6\n",
    "47\t<re.Match object; span=(412, 515), match='1. N...\thttps://lichess.org/L42Fe6eD\n",
    "48\t<re.Match object; span=(365, 468), match='1. d...\thttps://lichess.org/VNq1r3Qu\n",
    "49\t<re.Match object; span=(402, 505), match='1. e...\thttps://lichess.org/CXsfIcQc'''"
   ]
  },
  {
   "cell_type": "code",
   "execution_count": null,
   "id": "0f81e083",
   "metadata": {},
   "outputs": [],
   "source": [
    "# Searched and removed '\\{.*?\\}'\n",
    "\n",
    "df['First Move'] = df['First Move'].astype(str)\n",
    "pattern = re.compile(r'\\{.*?\\}')\n",
    "\n",
    "# apply the pattern to the 'moves' column and replace with an empty string\n",
    "df['First Move'] = df['First Move'].apply(lambda x: pattern.sub('', x))\n",
    "\n",
    "print(df['First Move'])"
   ]
  },
  {
   "cell_type": "code",
   "execution_count": null,
   "id": "07bf3ee9",
   "metadata": {},
   "outputs": [],
   "source": [
    "# Split first move in order to eventually remove \"<re.Match object; span=(###, ###), match='1\"\n",
    "\n",
    "df[['Move Before Match', 'Match and After']] = df['First Move'].str.split(\"match='1. \", n=1, expand=True)\n",
    "df = df[[\"Game URL\",\"Match and After\"]]\n",
    "df = df[[\"Game URL\",\"First Move\"]]\n",
    "df.head\n",
    "\n",
    "'''\n",
    "Game URL\tFirst Move\n",
    "0\thttps://lichess.org/aAcMUViA\te4 1... g6 { [%clk 0:01:00]>\n",
    "1\thttps://lichess.org/brBOPdLj\te4 1... d5 { [%clk 0:01:00]>\n",
    "2\thttps://lichess.org/pk0m4lj8\tg3 1... c6 { [%clk 0:01:00]>\n",
    "3\thttps://lichess.org/ZXitDcRa\te4 1... d6 { [%clk 0:01:00]>\n",
    "4\thttps://lichess.org/j50FcHUm\te4 1... e5 { [%clk 0:01:00]>\n",
    "'''"
   ]
  },
  {
   "cell_type": "code",
   "execution_count": null,
   "id": "db825f8f",
   "metadata": {},
   "outputs": [],
   "source": [
    "# Searched for \"1...\", which indicates black's first move and removed the number but kept the move.\n",
    "\n",
    "df['First Move'] = df['First Move'].str.replace('1\\.\\.\\. ', '')\n",
    "df.head()\n",
    "'''\tGame URL\tFirst Move\n",
    "0\thttps://lichess.org/aAcMUViA\te4 g6 { [%clk 0:01:00]>\n",
    "1\thttps://lichess.org/brBOPdLj\te4 d5 { [%clk 0:01:00]>\n",
    "2\thttps://lichess.org/pk0m4lj8\tg3 c6 { [%clk 0:01:00]>\n",
    "3\thttps://lichess.org/ZXitDcRa\te4 d6 { [%clk 0:01:00]>\n",
    "4\thttps://lichess.org/j50FcHUm\te4 e5 { [%clk 0:01:00]>'''"
   ]
  },
  {
   "cell_type": "code",
   "execution_count": null,
   "id": "a2b17179",
   "metadata": {},
   "outputs": [],
   "source": [
    "# Searched for '2.' which indicated the second move and removed it and everything after it. \n",
    "\n",
    "df['First Move'] = df['First Move'].str.replace(r'2\\..*', '', regex=True)\n"
   ]
  },
  {
   "cell_type": "code",
   "execution_count": null,
   "id": "f46e5c0c",
   "metadata": {},
   "outputs": [],
   "source": [
    "''' Searched for a pattern that would remove '{ [%clk 0:01:00]>' and similar text. \n",
    "Now only left with moves for the most part. More cleaning needed but will be handled later on.'''\n",
    "\n",
    "df['First Move'] = df['First Move'].astype(str)\n",
    "pattern = re.compile(r'\\{.*?\\>')\n",
    "\n",
    "# apply the pattern to the 'moves' column and replace with an empty string\n",
    "df['First Move'] = df['First Move'].apply(lambda x: pattern.sub('', x))\n",
    "\n",
    "print(df['First Move'])\n",
    "\n",
    "'''Left with moves and Game URLs'''\n",
    "\n",
    "df.head(5)\n",
    "'''\n",
    "Game URL\tFirst Move\n",
    "0\thttps://lichess.org/aAcMUViA\te4 g6\n",
    "1\thttps://lichess.org/brBOPdLj\te4 d5\n",
    "2\thttps://lichess.org/pk0m4lj8\tg3 c6\n",
    "3\thttps://lichess.org/ZXitDcRa\te4 d6\n",
    "4\thttps://lichess.org/j50FcHUm\te4 e5'''"
   ]
  },
  {
   "cell_type": "code",
   "execution_count": null,
   "id": "01a3e89d",
   "metadata": {},
   "outputs": [],
   "source": []
  },
  {
   "cell_type": "markdown",
   "id": "e086cb0c",
   "metadata": {},
   "source": [
    "__Notebook 3: Combining First Move and URL__"
   ]
  },
  {
   "cell_type": "code",
   "execution_count": null,
   "id": "eab89159",
   "metadata": {},
   "outputs": [],
   "source": [
    "import pandas as pd"
   ]
  },
  {
   "cell_type": "code",
   "execution_count": null,
   "id": "e1b0d58e",
   "metadata": {},
   "outputs": [],
   "source": [
    "# Load data frames\n",
    "df0 = pd.read_csv(r'C:\\Users\\PC\\Desktop\\Springboard Data Science Career Track\\Springboard - github\\DataScience Capstone 2\\lichess_first_move_urls\\lichess_first_move_urls_0')\n",
    "df1 = pd.read_csv(r'C:\\Users\\PC\\Desktop\\Springboard Data Science Career Track\\Springboard - github\\DataScience Capstone 2\\lichess_first_move_urls\\lichess_first_move_urls_1')\n",
    "df2 = pd.read_csv(r'C:\\Users\\PC\\Desktop\\Springboard Data Science Career Track\\Springboard - github\\DataScience Capstone 2\\lichess_first_move_urls\\lichess_first_move_urls_2')\n",
    "df3 = pd.read_csv(r'C:\\Users\\PC\\Desktop\\Springboard Data Science Career Track\\Springboard - github\\DataScience Capstone 2\\lichess_first_move_urls\\lichess_first_move_urls_3')\n",
    "df4 = pd.read_csv(r'C:\\Users\\PC\\Desktop\\Springboard Data Science Career Track\\Springboard - github\\DataScience Capstone 2\\lichess_first_move_urls\\lichess_first_move_urls_4')\n",
    "df5 = pd.read_csv(r'C:\\Users\\PC\\Desktop\\Springboard Data Science Career Track\\Springboard - github\\DataScience Capstone 2\\lichess_first_move_urls\\lichess_first_move_urls_5')\n",
    "df6 = pd.read_csv(r'C:\\Users\\PC\\Desktop\\Springboard Data Science Career Track\\Springboard - github\\DataScience Capstone 2\\lichess_first_move_urls\\lichess_first_move_urls_6')\n",
    "df7 = pd.read_csv(r'C:\\Users\\PC\\Desktop\\Springboard Data Science Career Track\\Springboard - github\\DataScience Capstone 2\\lichess_first_move_urls\\lichess_first_move_urls_7')\n",
    "df8 = pd.read_csv(r'C:\\Users\\PC\\Desktop\\Springboard Data Science Career Track\\Springboard - github\\DataScience Capstone 2\\lichess_first_move_urls\\lichess_first_move_urls_8')\n",
    "df9 = pd.read_csv(r'C:\\Users\\PC\\Desktop\\Springboard Data Science Career Track\\Springboard - github\\DataScience Capstone 2\\lichess_first_move_urls\\lichess_first_move_urls_9')\n",
    "df10 = pd.read_csv(r'C:\\Users\\PC\\Desktop\\Springboard Data Science Career Track\\Springboard - github\\DataScience Capstone 2\\lichess_first_move_urls\\lichess_first_move_urls_10')"
   ]
  },
  {
   "cell_type": "code",
   "execution_count": null,
   "id": "884fe5b9",
   "metadata": {},
   "outputs": [],
   "source": [
    "# Combine the data frames vertically\n",
    "df = pd.concat([df0, df1, df2, df3, df4, df5, df6, df7, df8, df9, df10], axis=0)"
   ]
  },
  {
   "cell_type": "code",
   "execution_count": null,
   "id": "f82760f4",
   "metadata": {},
   "outputs": [],
   "source": [
    "print(df10)\n",
    "'''         Unnamed: 0                      Game URL First Move\n",
    "0                 0  https://lichess.org/r58eoBfT  e4  1-0'>\n",
    "1                 1  https://lichess.org/nmsP3uSt    d4  d5 \n",
    "2                 2  https://lichess.org/MGstATaJ    e4  d5 \n",
    "3                 3  https://lichess.org/ZJ1AAfU3   Nf3  d5 \n",
    "4                 4  https://lichess.org/8gfBl9tS    e4  c6 \n",
    "...             ...                           ...        ...\n",
    "2670434     2670434  https://lichess.org/TYiG82Ml    e4  d5 \n",
    "2670435     2670435  https://lichess.org/rauLSxh4    e4  e5 \n",
    "2670436     2670436  https://lichess.org/ZJq2TAOR    e4  *'>\n",
    "2670437     2670437  https://lichess.org/SBzVsuns    e4  e5 \n",
    "2670438     2670438  https://lichess.org/03o6ZYeQ    e4  e5 \n",
    "\n",
    "[2670439 rows x 3 columns]'''"
   ]
  },
  {
   "cell_type": "code",
   "execution_count": null,
   "id": "19b3a5aa",
   "metadata": {},
   "outputs": [],
   "source": [
    "print(df0.shape, df1.shape, df2.shape, df3.shape, df4.shape, df5.shape, df6.shape, df7.shape, df8.shape, df9.shape, df10.shape)\n",
    "'''(1, 3) (10000000, 3) (10000000, 3) (10000000, 3) (10000000, 3) (10000000, 3) (10000000, 3) (10000000, 3) (10000000, 3) (10000000, 3) (2670439, 3)'''"
   ]
  },
  {
   "cell_type": "code",
   "execution_count": null,
   "id": "913fcb2c",
   "metadata": {},
   "outputs": [],
   "source": [
    "df.head\n",
    "'''\n",
    "Unnamed: 0\tGame URL\tFirst Move\n",
    "0\t0\thttps://lichess.org/aAcMUViA\te4 g6\n",
    "0\t0\thttps://lichess.org/brBOPdLj\te4 d5\n",
    "1\t1\thttps://lichess.org/pk0m4lj8\tg3 c6\n",
    "2\t2\thttps://lichess.org/ZXitDcRa\te4 d6\n",
    "3\t3\thttps://lichess.org/j50FcHUm\te4 e5'''"
   ]
  },
  {
   "cell_type": "code",
   "execution_count": null,
   "id": "af883720",
   "metadata": {},
   "outputs": [],
   "source": [
    "df.info()\n",
    "'''<class 'pandas.core.frame.DataFrame'>\n",
    "Int64Index: 92670440 entries, 0 to 2670438\n",
    "Data columns (total 3 columns):\n",
    " #   Column      Dtype \n",
    "---  ------      ----- \n",
    " 0   Unnamed: 0  int64 \n",
    " 1   Game URL    object\n",
    " 2   First Move  object\n",
    "dtypes: int64(1), object(2)\n",
    "memory usage: 2.8+ GB'''\n"
   ]
  },
  {
   "cell_type": "code",
   "execution_count": null,
   "id": "53315ff3",
   "metadata": {},
   "outputs": [],
   "source": [
    "df.sample(10)\n",
    "'''\tUnnamed: 0\tGame URL\tFirst Move\n",
    "3003692\t3003692\thttps://lichess.org/uBSsHQyF\te4 c5\n",
    "621402\t621402\thttps://lichess.org/p5skQzPm\tc4 e5\n",
    "4609952\t4609952\thttps://lichess.org/0VEXbv2m\te4 c5\n",
    "1802213\t1802213\thttps://lichess.org/HMn7YVcN\td4 f5\n",
    "7506627\t7506627\thttps://lichess.org/FC2xoer5\te4 c5\n",
    "4505837\t4505837\thttps://lichess.org/nEzdPMZc\te4 a5?!\n",
    "67858\t67858\thttps://lichess.org/JcjyGmbQ\te4 d5\n",
    "8135403\t8135403\thttps://lichess.org/XHzxedRl\te4 1-0'>\n",
    "670720\t670720\thttps://lichess.org/ou2V3m9a\te4 e5\n",
    "2004260\t2004260\thttps://lichess.org/ZERBOi7j\ta4 d5'''"
   ]
  },
  {
   "cell_type": "markdown",
   "id": "52e58de1",
   "metadata": {},
   "source": [
    "__Notebook 4: Compiling all data into one dataframe__"
   ]
  },
  {
   "cell_type": "code",
   "execution_count": null,
   "id": "2ebac8fa",
   "metadata": {},
   "outputs": [],
   "source": [
    "import pandas as pd\n",
    "import re\n",
    "import numpy as np"
   ]
  },
  {
   "cell_type": "code",
   "execution_count": null,
   "id": "ffa94679",
   "metadata": {},
   "outputs": [],
   "source": [
    "df1 = pd.read_csv(r\"C:\\Users\\PC\\Desktop\\Springboard Data Science Career Track\\Springboard - github\\DataScience Capstone 2\\lichess_dataframe_Data_Definition.csv\", index_col=[0])\n",
    "df2 = pd.read_csv(r\"C:\\Users\\PC\\Desktop\\Springboard Data Science Career Track\\Springboard - github\\DataScience Capstone 2\\lichess_first_move_urls\\lichess_first_move_urls_all\", index_col=[0])                             "
   ]
  },
  {
   "cell_type": "code",
   "execution_count": null,
   "id": "0d0c38b5",
   "metadata": {},
   "outputs": [],
   "source": [
    "# merged df2()\n",
    "df = pd.merge(df1, df2, on='Game URL')\n",
    "\n",
    "# take a look at df.head\n",
    "df.head()\n",
    "'''\n",
    "\n",
    "Event\tWhite Elo\tBlack Elo\tResult\tTermination\tTime Control\tOpening\tGame URL\tUnnamed: 0\tFirst Move\n",
    "0\tRated Blitz game\t1429\t1460\t1-0\tNormal\t300+3\tSicilian Defense: Bowdler Attack\thttps://lichess.org/bVgQVZ7L\t12\te4 c5\n",
    "1\tRated Blitz game\t1687\t1647\t1-0\tTime forfeit\t300+3\tKing's Pawn Game: Leonardis Variation\thttps://lichess.org/2ORvpVTt\t13\te4 e5\n",
    "2\tRated Blitz game\t1778\t1837\t1-0\tNormal\t300+3\tQueen's Gambit Declined: Neo-Orthodox Variatio...\thttps://lichess.org/rNNyi2Xh\t14\td4 d5\n",
    "3\tRated Blitz game\t1101\t1086\t0-1\tNormal\t300+3\tQueen's Gambit Declined: Marshall Defense\thttps://lichess.org/cLhZKY8t\t15\td4 d5\n",
    "4\tRated Blitz game\t1362\t1408\t0-1\tNormal\t300+3\tSicilian Defense: Smith-Morra Gambit\thttps://lichess.org/aVEa6ISS\t16\te4 c5'''"
   ]
  },
  {
   "cell_type": "code",
   "execution_count": null,
   "id": "0a504e1d",
   "metadata": {},
   "outputs": [],
   "source": [
    "# Splitting \"First Move\" into White's and Black's First moves\n",
    "df[['White First Move','Black First Move']] = df['First Move'].str.split(' ', n=1, expand=True)"
   ]
  },
  {
   "cell_type": "code",
   "execution_count": null,
   "id": "76a271c8",
   "metadata": {},
   "outputs": [],
   "source": [
    "df['White First Move'].unique()\n",
    "'''array(['e4', 'd4', 'f4', 'd3', 'Nf3', 'e3', 'b4', 'b3', 'c4', 'None',\n",
    "       'Nc3', 'g3', 'h3', 'f3', 'Nh3', 'c3', 'g4', 'h4', 'g4?', 'a4',\n",
    "       'a3', 'f3?!', 'h4?!', 'Na3', 'Nh3?!', 'Na3?!'], dtype=object)'''"
   ]
  },
  {
   "cell_type": "code",
   "execution_count": null,
   "id": "4e4abf11",
   "metadata": {},
   "outputs": [],
   "source": [
    "# # Replace \"?\" and \"!\" with 'None'. They signify analysis of the move.\n",
    "\n",
    "df['White First Move'] = df['White First Move'].str.replace(re.escape('?'), '') \\\n",
    "                                                .str.replace(re.escape('!'), '') "
   ]
  },
  {
   "cell_type": "code",
   "execution_count": null,
   "id": "3f424b18",
   "metadata": {},
   "outputs": [],
   "source": [
    "df['White First Move'].unique()\n",
    "'''array(['e4', 'd4', 'f4', 'd3', 'Nf3', 'e3', 'b4', 'b3', 'c4', 'None',\n",
    "       'Nc3', 'g3', 'h3', 'f3', 'Nh3', 'c3', 'g4', 'h4', 'a4', 'a3',\n",
    "       'Na3'], dtype=object)'''"
   ]
  },
  {
   "cell_type": "code",
   "execution_count": null,
   "id": "dd6a0209",
   "metadata": {},
   "outputs": [],
   "source": [
    "df['Black First Move'].unique()\n",
    "'''array([' c5 ', ' e5 ', ' d5 ', ' c6 ', ' Nf6 ', ' b6 ', ' Nc6 ', ' e6 ',\n",
    "       ' d6 ', ' g6 ', None, \" 1-0'>\", ' f5 ', ' h5 ', ' d6?! ', ' c5?! ',\n",
    "       ' b5 ', ' g5 ', ' e5? ', ' g5? ', ' f6 ', ' a6 ', ' a5 ', ' h6 ',\n",
    "       ' b6?! ', ' f5?! ', ' Na6 ', ' b5? ', ' g6?! ', ' f5? ', ' h5? ',\n",
    "       ' f5?! >', ' d6?!>', ' Nc6?! ', ' Nh6 ', ' f6? >', ' Nf6 >',\n",
    "       ' a5? >', ' f6? ', ' h5?! ', ' d5 >', ' f6?! ', ' e5 >', ' a6?! ',\n",
    "       ' b5?! ', ' f6?! >', ' Nh6? ', ' d6?>', ' Nc6>', ' a6? >', ' Nf6>',\n",
    "       ' b6?>', ' e6 >', ' a5?>', ' h6?! ', ' a5?! ', ' Nc6 >',\n",
    "       ' Na6?! >', \" 0-1'>\", ' Na6? ', ' c5 >', ' g5? >', ' b6? >',\n",
    "       ' e5>', ' g6? >', ' d5>', ' c5>', ' e6?!>', ' c5?!>', ' a5?! >',\n",
    "       ' g6?!>', ' c6?!>', ' f5>', ' Nf6?>', ' f5?!>', ' f5?>', ' Nh>',\n",
    "       ' Nh6? >', ' h5?! >', ' g5?! ', ' h5? >', ' c6?>', ' c6>', ' Na>',\n",
    "       ' a6?! >', ' f6?>', ' a6?!>', ' Nf>', ' h5?>', ' a6?>', ' g6?>',\n",
    "       ' d6>', ' Nh6?! >', ' h6?>', ' h5>', ' h6>', ' g6>', ' f5? >',\n",
    "       ' b5? >', ' h6? >', ' h5?!>', ' e6>', ' g5?>', ' b6>', ' b5?>',\n",
    "       ' Na6?!>', ' Nh6?>', ' Na6?>', ' Nc>', ' Nh6?! ', ' a6>', ' b5>',\n",
    "       ' Na6>', ' Nh6>', ' a5>', ' g5>', ' h6?!>', ' Nh6?!>',\n",
    "       \" 1/2-1/2'>\", ' Na6?! ', ' f6>', ' h6 >', ' c6 >', ' d6 >',\n",
    "       ' a6 >'], dtype=object)'''"
   ]
  },
  {
   "cell_type": "code",
   "execution_count": null,
   "id": "f1a30d5b",
   "metadata": {},
   "outputs": [],
   "source": [
    "# Replace \"?\", \"!\", \">'\" with 'None'. The first two signify analysis of the move \n",
    "# and the last one is an extra character. \n",
    "\n",
    "df['Black First Move'] = df['Black First Move'].str.replace(re.escape('?'), '') \\\n",
    "                                                .str.replace(re.escape('!'), '') \\\n",
    "                                                .str.replace(re.escape(' '), '') \\\n",
    "                                                .str.replace(re.escape('>'), '')"
   ]
  },
  {
   "cell_type": "code",
   "execution_count": null,
   "id": "1de39b86",
   "metadata": {},
   "outputs": [],
   "source": [
    "df['Black First Move'].unique()\n",
    "'''\n",
    "array(['c5', 'e5', 'd5', 'c6', 'Nf6', 'b6', 'Nc6', 'e6', 'd6', 'g6', None,\n",
    "       \"1-0'\", 'f5', 'h5', 'b5', 'g5', 'f6', 'a6', 'a5', 'h6', 'Na6',\n",
    "       'Nh6', \"0-1'\", 'Nh', 'Na', 'Nf', 'Nc', \"1/2-1/2'\"], dtype=object)'''"
   ]
  },
  {
   "cell_type": "code",
   "execution_count": null,
   "id": "8eca8e5b",
   "metadata": {},
   "outputs": [],
   "source": [
    "# Replace \"1-0'\", \"0-1'\", \"1/2-1/2'\" which signify end of a game with 'None'\n",
    "\n",
    "df['Black First Move'] = df['Black First Move'].str.replace(re.escape(\"1-0'\"), 'None') \\\n",
    "                                                .str.replace(re.escape(\"0-1'\"), 'None') \\\n",
    "                                                .str.replace(re.escape(\"1/2-1/2'\"), 'None') \n",
    "df['Black First Move'].unique()    \n",
    "\n",
    "'''array(['c5', 'e5', 'd5', 'c6', 'Nf6', 'b6', 'Nc6', 'e6', 'd6', 'g6', None,\n",
    "       'None', 'f5', 'h5', 'b5', 'g5', 'f6', 'a6', 'a5', 'h6', 'Na6',\n",
    "       'Nh6', 'Nh', 'Na', 'Nf', 'Nc'], dtype=object)'''"
   ]
  },
  {
   "cell_type": "code",
   "execution_count": null,
   "id": "ec1eaaa4",
   "metadata": {},
   "outputs": [],
   "source": [
    "# \"Na\", \"Nh\", \"Nc\", \"Nf\". Those seem strange. \n",
    "# It appears that the moves were either partially recorded. \n",
    "# Fortunately, this is easily fixed as there is only one choice for these two. \n",
    "# The moves have to be “Na6”, “Nh6”, \"Nc6\", \"Nf6\" respectively. \n",
    "df['Black First Move'] = df['Black First Move'].str.replace(re.escape(\"Na6\"), 'Na') \\\n",
    "                                                .str.replace(re.escape(\"Na\"), 'Na6') \\\n",
    "                                                .str.replace(re.escape(\"Nh6\"), 'Nh') \\\n",
    "                                                .str.replace(re.escape(\"Nh\"), 'Nh6') \\\n",
    "                                                .str.replace(re.escape(\"Nf6\"), 'Nf') \\\n",
    "                                                .str.replace(re.escape(\"Nf\"), 'Nf6') \\\n",
    "                                                .str.replace(re.escape(\"Nc6\"), 'Nc') \\\n",
    "                                                .str.replace(re.escape(\"Nc\"), 'Nc6')"
   ]
  },
  {
   "cell_type": "code",
   "execution_count": null,
   "id": "8ec54b9d",
   "metadata": {},
   "outputs": [],
   "source": [
    "# No more \"Na\", \"Nh\", \"Nc\", \"Nf\"\n",
    "\n",
    "df4 = len(df[(df['Black First Move']=='Nh') & (df['Black First Move']!='Nh6')])\n",
    "df5 = len(df[(df['Black First Move']=='Na') & (df['Black First Move']!='Na6')])\n",
    "df6 = len(df[(df['Black First Move']=='Nc') & (df['Black First Move']!='Nc6')])\n",
    "df7 = len(df[(df['Black First Move']=='Nf') & (df['Black First Move']!='Nf6')])\n",
    "print(df4, df5, df6, df7)"
   ]
  },
  {
   "cell_type": "code",
   "execution_count": null,
   "id": "0fa13c87",
   "metadata": {},
   "outputs": [],
   "source": [
    "# Count NaN values in the DataFrame\n",
    "n_missing = df['Black First Move'].isna().sum().sum()\n",
    "\n",
    "# Print the number of NaN values\n",
    "print(\"Number of NaN values: \", n_missing)\n",
    "'''Number of NaN values:  96581'''"
   ]
  },
  {
   "cell_type": "code",
   "execution_count": null,
   "id": "1ae433f0",
   "metadata": {},
   "outputs": [],
   "source": [
    "df['Black First Move'] = df['Black First Move'].fillna('None')\n",
    "'''Number of unique values in `White First Move`:  21\n",
    "List of unique values in `White First Move`:  ['e4' 'd4' 'f4' 'd3' 'Nf3' 'e3' 'b4' 'b3' 'c4' 'None' 'Nc3' 'g3' 'h3' 'f3'\n",
    " 'Nh3' 'c3' 'g4' 'h4' 'a4' 'a3' 'Na3']\n",
    "Number of unique values in `Black First Move`:  21\n",
    "List of unique values in `Black First Move`:  ['c5' 'e5' 'd5' 'c6' 'Nf6' 'b6' 'Nc6' 'e6' 'd6' 'g6' 'None' 'f5' 'h5' 'b5'\n",
    " 'g5' 'f6' 'a6' 'a5' 'h6' 'Na6' 'Nh6']'''"
   ]
  },
  {
   "cell_type": "code",
   "execution_count": null,
   "id": "bf2de820",
   "metadata": {},
   "outputs": [],
   "source": [
    "# Getting rid of \"First Move\" column since we now have \"White First Move\" & \"Black First Move\".\n",
    "\n",
    "df = df[['Event', 'White Elo', 'Black Elo', 'Result', 'Termination', 'Time Control', 'Opening',\"Game URL\", \"White First Move\", \"Black First Move\"]]      \n",
    "df.head()\n",
    "\n",
    "'''Event\tWhite Elo\tBlack Elo\tResult\tTermination\tTime Control\tOpening\tGame URL\tWhite First Move\tBlack First Move\n",
    "0\tRated Blitz game\t1429\t1460\t1-0\tNormal\t300+3\tSicilian Defense: Bowdler Attack\thttps://lichess.org/bVgQVZ7L\te4\tc5\n",
    "1\tRated Blitz game\t1687\t1647\t1-0\tTime forfeit\t300+3\tKing's Pawn Game: Leonardis Variation\thttps://lichess.org/2ORvpVTt\te4\te5\n",
    "2\tRated Blitz game\t1778\t1837\t1-0\tNormal\t300+3\tQueen's Gambit Declined: Neo-Orthodox Variatio...\thttps://lichess.org/rNNyi2Xh\td4\td5\n",
    "3\tRated Blitz game\t1101\t1086\t0-1\tNormal\t300+3\tQueen's Gambit Declined: Marshall Defense\thttps://lichess.org/cLhZKY8t\td4\td5\n",
    "4\tRated Blitz game\t1362\t1408\t0-1\tNormal\t300+3\tSicilian Defense: Smith-Morra Gambit\thttps://lichess.org/aVEa6ISS\te4\tc5'''"
   ]
  },
  {
   "cell_type": "code",
   "execution_count": null,
   "id": "532d7ad6",
   "metadata": {},
   "outputs": [],
   "source": []
  }
 ],
 "metadata": {
  "kernelspec": {
   "display_name": "Python 3 (ipykernel)",
   "language": "python",
   "name": "python3"
  },
  "language_info": {
   "codemirror_mode": {
    "name": "ipython",
    "version": 3
   },
   "file_extension": ".py",
   "mimetype": "text/x-python",
   "name": "python",
   "nbconvert_exporter": "python",
   "pygments_lexer": "ipython3",
   "version": "3.9.12"
  }
 },
 "nbformat": 4,
 "nbformat_minor": 5
}
