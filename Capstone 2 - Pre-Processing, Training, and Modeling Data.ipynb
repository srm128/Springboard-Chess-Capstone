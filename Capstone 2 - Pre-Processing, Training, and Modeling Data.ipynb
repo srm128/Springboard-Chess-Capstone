{
 "cells": [
  {
   "cell_type": "markdown",
   "id": "05612c2a",
   "metadata": {},
   "source": [
    "# Pre-Processing and Training Data\n"
   ]
  },
  {
   "cell_type": "markdown",
   "id": "dde4c97d",
   "metadata": {},
   "source": [
    "From the EDA we were able to determined what seemed like the best opening for white. We were able to determine that Queen's Gambit Accepted seems to be one of the most popular and successful openings for white. \n",
    "\n",
    "Next we want to determine what predicts the outcome of games that we deem a \"fair fight\". Is it elo difference, time, moving first (white), increment, or opening choice. \n",
    "In this notebook, we will start to build machine learning models. \n"
   ]
  },
  {
   "cell_type": "code",
   "execution_count": 2,
   "id": "2ef84400",
   "metadata": {},
   "outputs": [],
   "source": [
    "import pandas as pd\n",
    "import numpy as np\n",
    "import re\n",
    "from tqdm import tqdm\n",
    "import os\n",
    "import pickle\n",
    "import matplotlib.pyplot as plt\n",
    "import seaborn as sns\n",
    "from sklearn import __version__ as sklearn_version\n",
    "from sklearn.decomposition import PCA\n",
    "from sklearn.model_selection import train_test_split, cross_validate, GridSearchCV, learning_curve\n",
    "from sklearn.preprocessing import StandardScaler, MinMaxScaler, scale, OrdinalEncoder\n",
    "from sklearn.dummy import DummyRegressor\n",
    "from sklearn.ensemble import RandomForestRegressor, RandomForestClassifier\n",
    "from sklearn.metrics import r2_score, mean_squared_error, mean_absolute_error, accuracy_score\n",
    "from sklearn.pipeline import make_pipeline, Pipeline\n",
    "from sklearn.impute import SimpleImputer\n",
    "from sklearn.feature_selection import SelectKBest, f_regression\n",
    "from sklearn.linear_model import LogisticRegression, LinearRegression\n",
    "import category_encoders as ce\n",
    "import datetime\n",
    "from sklearn.tree import DecisionTreeClassifier\n",
    "import graphviz\n",
    "from sklearn.tree import export_graphviz\n",
    "\n"
   ]
  },
  {
   "cell_type": "code",
   "execution_count": 3,
   "id": "10a1f751",
   "metadata": {},
   "outputs": [],
   "source": [
    "# Load the dataset into a pandas dataframe\n",
    "df2 = pd.read_csv('df_EDA_result.csv', index_col=[0])"
   ]
  },
  {
   "cell_type": "code",
   "execution_count": 4,
   "id": "9f4df8d8",
   "metadata": {},
   "outputs": [],
   "source": [
    "df = df2\n",
    "df = df.reset_index(drop=True)\n"
   ]
  },
  {
   "cell_type": "markdown",
   "id": "0585fe72",
   "metadata": {},
   "source": [
    "While we would love to look at everything, we are unfotunetly running into memory issues again. We will have to remove some data. We will be removing the following data to make it easier for the computer to handle. \n",
    "- Elo difference absolute - While this data is important to see trends in wins elo difference give us a fuller picture. \n",
    "- White / Black first move - This data is theoratically covered by opening. \n",
    "- Game URL - This shouldn't inflence anything. \n",
    "- Termination - This tells us how the game finished not who won. \n",
    "\n",
    "Furthermore, we will be:\n",
    "- Changing Time Control: Increment to just a 1 or a 0 (yes or no).\n",
    "- Combining Opening and Opening Variation and then looking at the most popular of those. "
   ]
  },
  {
   "cell_type": "code",
   "execution_count": 5,
   "id": "8adca008",
   "metadata": {},
   "outputs": [],
   "source": [
    "'''Preprocess the chess game data by concatenating two existing columns, \n",
    "removing an unnecessary column, and cleaning up any resulting data inconsistencies.'''\n",
    "\n",
    "df[\"Opening\"] = df.apply(lambda x: str(x[\"Opening\"]) + \":\" + str(x[\"Opening Variation\"]), axis=1)\n",
    "df.drop(\"Opening Variation\", axis=1, inplace=True)\n",
    "df['Opening'] = df['Opening'].str.replace(':nan', '')"
   ]
  },
  {
   "cell_type": "code",
   "execution_count": 5,
   "id": "7ca2e6fc",
   "metadata": {},
   "outputs": [
    {
     "data": {
      "text/plain": [
       "Queen's Pawn Game                                                   0.025336\n",
       "Modern Defense                                                      0.049011\n",
       "Scandinavian Defense: Mieses-Kotroc Variation                       0.070687\n",
       "Philidor Defense                                                    0.091794\n",
       "Queen's Pawn Game: Mason Variation                                  0.111829\n",
       "Caro-Kann Defense                                                   0.131440\n",
       "Van't Kruijs Opening                                                0.146249\n",
       "Horwitz Defense                                                     0.160365\n",
       "Pirc Defense                                                        0.174063\n",
       "French Defense: Knight Variation                                    0.187458\n",
       "Scandinavian Defense                                                0.199824\n",
       "Indian Defense                                                      0.211940\n",
       "Owen Defense                                                        0.223732\n",
       "Sicilian Defense: Bowdler Attack                                    0.235333\n",
       "Sicilian Defense: Old Sicilian                                      0.246256\n",
       "Scotch Game                                                         0.256939\n",
       "Queen's Pawn Game: Chigorin Variation                               0.266911\n",
       "Bishop's Opening                                                    0.276553\n",
       "Sicilian Defense                                                    0.284557\n",
       "King's Pawn Game: Leonardis Variation                               0.292551\n",
       "Hungarian Opening                                                   0.300497\n",
       "Queen's Pawn Game: Zukertort Variation                              0.308399\n",
       "Englund Gambit                                                      0.314971\n",
       "Italian Game: Anti-Fried Liver Defense                              0.321507\n",
       "Four Knights Game: Italian Variation                                0.327597\n",
       "Sicilian Defense: Modern Variations                                 0.333634\n",
       "Sicilian Defense: Smith-Morra Gambit                                0.339629\n",
       "Three Knights Opening                                               0.345579\n",
       "Scandinavian Defense: Modern Variation                              0.351468\n",
       "Sicilian Defense: McDonnell Attack                                  0.357319\n",
       "Benoni Defense: Old Benoni                                          0.363102\n",
       "Italian Game                                                        0.368830\n",
       "Scandinavian Defense: Main Line                                     0.374552\n",
       "Queen's Gambit Declined                                             0.380219\n",
       "King's Pawn Game: Wayward Queen Attack                              0.385863\n",
       "Sicilian Defense: Closed                                            0.391463\n",
       "French Defense: Normal Variation                                    0.396964\n",
       "Queen's Gambit Declined: Marshall Defense                           0.402435\n",
       "English Defense                                                     0.407808\n",
       "French Defense: Exchange Variation                                  0.413072\n",
       "Ruy Lopez: Steinitz Defense                                         0.418108\n",
       "Zukertort Opening: Tennison Gambit                                  0.423081\n",
       "French Defense: Advance Variation                                   0.428006\n",
       "Sicilian Defense: Alapin Variation                                  0.432774\n",
       "Slav Defense                                                        0.437439\n",
       "French Defense                                                      0.442051\n",
       "Russian Game: Three Knights Game                                    0.446623\n",
       "Caro-Kann Defense: Exchange Variation                               0.451065\n",
       "Giuoco Piano                                                        0.455500\n",
       "King's Pawn Game: Busch-Gass Gambit                                 0.459892\n",
       "Bishop's Opening: Berlin Defense                                    0.464262\n",
       "Queen's Pawn Game: London System                                    0.468596\n",
       "Russian Game: Italian Variation                                     0.472803\n",
       "Bird Opening                                                        0.476965\n",
       "Sicilian Defense: Open                                              0.481020\n",
       "Nimzo-Larsen Attack: Modern Variation                               0.484985\n",
       "Vienna Game                                                         0.488885\n",
       "Queen's Pawn Game: Colle System                                     0.492782\n",
       "Philidor Defense: Exchange Variation                                0.496555\n",
       "Sicilian Defense: French Variation                                  0.500261\n",
       "Caro-Kann Defense: Advance Variation                                0.503909\n",
       "Mieses Opening                                                      0.507474\n",
       "Russian Game                                                        0.511021\n",
       "King's Pawn Game: McConnell Defense                                 0.514477\n",
       "English Opening: King's English Variation                           0.517876\n",
       "Nimzo-Larsen Attack: Classical Variation                            0.521207\n",
       "King's Pawn Game: Napoleon Attack                                   0.524410\n",
       "Caro-Kann Defense: Hillbilly Attack                                 0.527606\n",
       "Queen's Gambit Accepted                                             0.530740\n",
       "Italian Game: Giuoco Pianissimo, Normal                             0.533821\n",
       "King's Gambit Declined: Queen's Knight Defense                      0.536872\n",
       "Sicilian Defense: Nyezhmetdinov-Rossolimo Attack                    0.539904\n",
       "Russian Game: Stafford Gambit                                       0.542931\n",
       "Italian Game: Two Knights Defense, Modern Bishop's Opening          0.545853\n",
       "Bird Opening: Dutch Variation                                       0.548757\n",
       "Polish Opening                                                      0.551623\n",
       "Center Game                                                         0.554448\n",
       "French Defense: La Bourdonnais Variation                            0.557248\n",
       "Bishop's Opening: Boi Variation                                     0.559934\n",
       "Queen's Gambit Accepted: Old Variation                              0.562619\n",
       "Dutch Defense                                                       0.565265\n",
       "Sicilian Defense: Closed, Traditional                               0.567792\n",
       "English Opening: Agincourt Defense                                  0.570295\n",
       "Ruy Lopez: Berlin Defense                                           0.572749\n",
       "Englund Gambit Complex: Englund Gambit                              0.575191\n",
       "French Defense: Queen's Knight                                      0.577606\n",
       "Englund Gambit Declined: Reversed French                            0.579985\n",
       "Italian Game: Giuoco Pianissimo, Italian Four Knights Variation     0.582354\n",
       "Center Game: Normal Variation                                       0.584701\n",
       "Pirc Defense: Classical Variation                                   0.587042\n",
       "Caro-Kann Defense: Advance Variation, Short Variation               0.589378\n",
       "English Opening: King's English Variation, Reversed Sicilian        0.591689\n",
       "King's Knight Opening: Normal Variation                             0.593994\n",
       "Rat Defense: Small Center Defense                                   0.596232\n",
       "Alekhine Defense                                                    0.598449\n",
       "Vienna Game: Vienna Gambit                                          0.600603\n",
       "King's Gambit Accepted: MacLeod Defense                             0.602714\n",
       "Sicilian Defense: LÃ¶wenthal Variation                              0.604812\n",
       "Italian Game: Schilling-Kostic Gambit                               0.606905\n",
       "Nimzo-Larsen Attack                                                 0.608976\n",
       "Elephant Gambit                                                     0.611025\n",
       "Ruy Lopez: Classical Variation                                      0.613068\n",
       "Vienna Game: Max Lange Defense                                      0.615107\n",
       "Old Indian Defense                                                  0.617124\n",
       "Nimzowitsch Defense: Kennedy Variation, Linksspringer Variation     0.619121\n",
       "Italian Game: Giuoco Pianissimo                                     0.621111\n",
       "Caro-Kann Defense: Advance Variation, Botvinnik-Carls Defense       0.623092\n",
       "Grob Opening                                                        0.625062\n",
       "French Defense: King's Indian Attack                                0.627022\n",
       "Benoni Defense: Benoni Gambit Accepted                              0.628974\n",
       "English Opening: Anglo-Scandinavian Defense                         0.630909\n",
       "Sicilian Defense: Najdorf Variation                                 0.632824\n",
       "Queen's Pawn Game: Symmetrical Variation                            0.634737\n",
       "Zukertort Opening                                                   0.636630\n",
       "Sicilian Defense: Delayed Alapin                                    0.638516\n",
       "Italian Game: Classical Variation                                   0.640401\n",
       "Ponziani Opening                                                    0.642286\n",
       "French Defense: Advance Variation, Paulsen Attack                   0.644168\n",
       "Sicilian Defense: Taimanov Variation                                0.646043\n",
       "Four Knights Game: Scotch Variation Accepted                        0.647918\n",
       "Nimzowitsch Defense                                                 0.649783\n",
       "Italian Game: Two Knights Defense                                   0.651630\n",
       "King's Indian Attack                                                0.653470\n",
       "Queen's Gambit Declined: Queen's Knight Variation                   0.655299\n",
       "Scotch Game: Classical Variation                                    0.657128\n",
       "Queen's Pawn Game: Levitsky Attack                                  0.658944\n",
       "King's Pawn Game                                                    0.660747\n",
       "King's Pawn Game: Macleod Attack                                    0.662541\n",
       "Italian Game: Classical Variation, Giuoco Pianissimo                0.664334\n",
       "King's Pawn Game: Damiano Defense                                   0.666121\n",
       "Caro-Kann Defense: Two Knights Attack                               0.667900\n",
       "Ponziani Opening: Jaenisch Counterattack                            0.669615\n",
       "French Defense: Advance Variation, Nimzowitsch System               0.671303\n",
       "English Opening: Symmetrical Variation                              0.672987\n",
       "Scandinavian Defense: Gubinsky-Melts Defense                        0.674647\n",
       "Van Geet Opening                                                    0.676281\n",
       "English Opening                                                     0.677912\n",
       "Zukertort Opening: Sicilian Invitation                              0.679534\n",
       "King's Pawn Game: MarÃ³czy Defense                                  0.681091\n",
       "Semi-Slav Defense: Accelerated Move Order                           0.682630\n",
       "Slav Defense: Exchange Variation                                    0.684164\n",
       "Zukertort Opening: Queen's Gambit Invitation                        0.685691\n",
       "Queen's Gambit Declined: Baltic Defense                             0.687215\n",
       "Four Knights Game                                                   0.688730\n",
       "Sicilian Defense: Staunton-Cochrane Variation                       0.690209\n",
       "Semi-Slav Defense                                                   0.691686\n",
       "English Opening: Great Snake Variation                              0.693157\n",
       "Nimzowitsch Defense: Scandinavian Variation, Advance Variation      0.694618\n",
       "King's Knight Opening                                               0.696051\n",
       "Vienna Game: Anderssen Defense                                      0.697478\n",
       "Queen's Gambit Declined: Normal Defense                             0.698875\n",
       "King's Gambit Accepted: Fischer Defense                             0.700264\n",
       "Slav Defense: Modern Line                                           0.701647\n",
       "Slav Defense: Three Knights Variation                               0.703029\n",
       "Sicilian Defense: Delayed Alapin Variation                          0.704411\n",
       "Queen's Gambit Declined: Chigorin Defense                           0.705781\n",
       "Italian Game: Hungarian Defense                                     0.707145\n",
       "Queen's Pawn Game: Steinitz Countergambit                           0.708498\n",
       "Queen's Pawn Game: Anti-Torre                                       0.709841\n",
       "Queen's Pawn Game: Krause Variation                                 0.711175\n",
       "English Opening: King's English Variation, Two Knights Variation    0.712502\n",
       "Queen's Gambit Declined: Ragozin Defense                            0.713824\n",
       "Englund Gambit Complex: Hartlaub-Charlick Gambit                    0.715138\n",
       "Sicilian Defense: Hyperaccelerated Dragon                           0.716449\n",
       "Caro-Kann Defense: Breyer Variation                                 0.717753\n",
       "Alekhine Defense: Scandinavian Variation                            0.719057\n",
       "Ruy Lopez: Bird Variation                                           0.720352\n",
       "Bishop's Opening: Vienna Hybrid                                     0.721630\n",
       "Zukertort Opening: Black Mustang Defense                            0.722904\n",
       "Indian Defense: London System                                       0.724177\n",
       "Ruy Lopez: Cozio Defense                                            0.725442\n",
       "English Opening: Caro-Kann Defensive System                         0.726706\n",
       "English Opening: Anglo-Indian Defense, Queen's Knight Variation     0.727959\n",
       "King's Gambit Accepted: King's Knight Gambit                        0.729212\n",
       "Queen's Pawn Game: Franco-Sicilian Defense                          0.730448\n",
       "English Opening: Anglo-Indian Defense                               0.731684\n",
       "Indian Defense: Normal Variation                                    0.732912\n",
       "Vienna Game: Stanley Variation                                      0.734115\n",
       "King's Indian Defense                                               0.735317\n",
       "Scotch Game: Scotch Gambit                                          0.736513\n",
       "Zukertort Opening: Kingside Fianchetto                              0.737686\n",
       "Nimzowitsch Defense: Declined Variation                             0.738847\n",
       "Elephant Gambit: Paulsen Countergambit                              0.740003\n",
       "Caro-Kann Defense: Classical Variation                              0.741153\n",
       "Queen's Gambit Declined: Three Knights Variation                    0.742302\n",
       "Ruy Lopez                                                           0.743445\n",
       "Scotch Game: Schmidt Variation                                      0.744583\n",
       "English Opening: The Whale                                          0.745719\n",
       "Sicilian Defense: Accelerated Dragon, Modern Variation              0.746842\n",
       "Ruy Lopez: Exchange Variation                                       0.747964\n",
       "Indian Defense: Budapest Defense                                    0.749086\n",
       "Indian Defense: Wade-Tartakower Defense                             0.750198\n",
       "Name: Opening, dtype: float64"
      ]
     },
     "execution_count": 5,
     "metadata": {},
     "output_type": "execute_result"
    }
   ],
   "source": [
    "'''Analyze the frequency of different chess game openings in the dataset.'''\n",
    "\n",
    "pd.set_option('display.max_rows', df.shape[0]+1)\n",
    "df['Opening'].value_counts(normalize=True).cumsum().head(192)"
   ]
  },
  {
   "cell_type": "code",
   "execution_count": 6,
   "id": "6e07b752",
   "metadata": {},
   "outputs": [],
   "source": [
    "'''Filter the chess game data to include only the most common openings.'''\n",
    "\n",
    "mask = df['Opening'].isin(df['Opening'].value_counts(normalize=True).cumsum().head(192).index)\n",
    "df = df[mask]"
   ]
  },
  {
   "cell_type": "code",
   "execution_count": 7,
   "id": "fb4fd22a",
   "metadata": {},
   "outputs": [],
   "source": [
    "# dropping columns\n",
    "df.drop(columns=['Elo Difference Absolute', 'White First Move', 'Black First Move', 'Game URL', 'Termination'], inplace=True)"
   ]
  },
  {
   "cell_type": "code",
   "execution_count": 8,
   "id": "dc76b3e6",
   "metadata": {},
   "outputs": [],
   "source": [
    "# changing Time Control: Increment to just 1 or 0. \n",
    "df['Time Control: Increment'] = df['Time Control: Increment'].apply(lambda x: 0 if x == 0 else 1)"
   ]
  },
  {
   "cell_type": "code",
   "execution_count": 9,
   "id": "bbc615d7",
   "metadata": {},
   "outputs": [
    {
     "name": "stdout",
     "output_type": "stream",
     "text": [
      "Opening                     object\n",
      "White Elo                    int64\n",
      "Black Elo                    int64\n",
      "Elo Difference               int64\n",
      "White Won                  float64\n",
      "Time Control                 int64\n",
      "Time Control: Increment      int64\n",
      "dtype: object\n"
     ]
    }
   ],
   "source": [
    "print(df.dtypes)"
   ]
  },
  {
   "cell_type": "code",
   "execution_count": 10,
   "id": "7cbf4178",
   "metadata": {},
   "outputs": [],
   "source": [
    "# converting to int16 to save memory.\n",
    "cols_to_convert = [\"White Elo\", \"Black Elo\", \"Elo Difference\"]\n",
    "df[cols_to_convert] = df[cols_to_convert].astype('int64')\n",
    "# converting to category to save memory.\n",
    "cols_to_convert2 = [\"Time Control: Increment\", \"Time Control\", \"Opening\"]\n",
    "df[cols_to_convert2] = df[cols_to_convert2].astype('category')\n"
   ]
  },
  {
   "cell_type": "code",
   "execution_count": 11,
   "id": "c5d1cd50",
   "metadata": {},
   "outputs": [
    {
     "name": "stderr",
     "output_type": "stream",
     "text": [
      "C:\\Users\\PC\\AppData\\Local\\Temp\\ipykernel_18880\\2398043986.py:2: FutureWarning: The default value of regex will change from True to False in a future version.\n",
      "  df[\"White Result\"] = df[\"White Won\"].str.replace(re.escape('0.5'), 'Drawn') \\\n"
     ]
    }
   ],
   "source": [
    "'''Clean up the chess game results data by replacing numerical values with more descriptive labels. '''\n",
    "\n",
    "df[\"White Won\"] = df[\"White Won\"].astype(str)\n",
    "df[\"White Result\"] = df[\"White Won\"].str.replace(re.escape('0.5'), 'Drawn') \\\n",
    "                                                .str.replace(re.escape('1.0'), 'Won') \\\n",
    "                                                .str.replace(re.escape('0.0'), 'Lost') "
   ]
  },
  {
   "cell_type": "code",
   "execution_count": 12,
   "id": "de434188",
   "metadata": {},
   "outputs": [],
   "source": [
    "# dropping columns\n",
    "df.drop(columns=['White Won'], inplace=True)"
   ]
  },
  {
   "cell_type": "code",
   "execution_count": 13,
   "id": "6fc2f9af",
   "metadata": {},
   "outputs": [
    {
     "name": "stdout",
     "output_type": "stream",
     "text": [
      "Opening                    category\n",
      "White Elo                     int64\n",
      "Black Elo                     int64\n",
      "Elo Difference                int64\n",
      "Time Control               category\n",
      "Time Control: Increment    category\n",
      "White Result                 object\n",
      "dtype: object\n"
     ]
    }
   ],
   "source": [
    "print(df.dtypes)"
   ]
  },
  {
   "cell_type": "code",
   "execution_count": 14,
   "id": "6d025744",
   "metadata": {},
   "outputs": [
    {
     "data": {
      "text/html": [
       "<div>\n",
       "<style scoped>\n",
       "    .dataframe tbody tr th:only-of-type {\n",
       "        vertical-align: middle;\n",
       "    }\n",
       "\n",
       "    .dataframe tbody tr th {\n",
       "        vertical-align: top;\n",
       "    }\n",
       "\n",
       "    .dataframe thead th {\n",
       "        text-align: right;\n",
       "    }\n",
       "</style>\n",
       "<table border=\"1\" class=\"dataframe\">\n",
       "  <thead>\n",
       "    <tr style=\"text-align: right;\">\n",
       "      <th></th>\n",
       "      <th>Opening</th>\n",
       "      <th>White Elo</th>\n",
       "      <th>Black Elo</th>\n",
       "      <th>Elo Difference</th>\n",
       "      <th>Time Control</th>\n",
       "      <th>Time Control: Increment</th>\n",
       "      <th>White Result</th>\n",
       "    </tr>\n",
       "  </thead>\n",
       "  <tbody>\n",
       "    <tr>\n",
       "      <th>0</th>\n",
       "      <td>Sicilian Defense: Bowdler Attack</td>\n",
       "      <td>1429</td>\n",
       "      <td>1460</td>\n",
       "      <td>-31</td>\n",
       "      <td>300</td>\n",
       "      <td>1</td>\n",
       "      <td>Won</td>\n",
       "    </tr>\n",
       "    <tr>\n",
       "      <th>1</th>\n",
       "      <td>King's Pawn Game: Leonardis Variation</td>\n",
       "      <td>1687</td>\n",
       "      <td>1647</td>\n",
       "      <td>40</td>\n",
       "      <td>300</td>\n",
       "      <td>1</td>\n",
       "      <td>Won</td>\n",
       "    </tr>\n",
       "    <tr>\n",
       "      <th>3</th>\n",
       "      <td>Queen's Gambit Declined: Marshall Defense</td>\n",
       "      <td>1101</td>\n",
       "      <td>1086</td>\n",
       "      <td>15</td>\n",
       "      <td>300</td>\n",
       "      <td>1</td>\n",
       "      <td>Lost</td>\n",
       "    </tr>\n",
       "    <tr>\n",
       "      <th>4</th>\n",
       "      <td>Sicilian Defense: Smith-Morra Gambit</td>\n",
       "      <td>1362</td>\n",
       "      <td>1408</td>\n",
       "      <td>-46</td>\n",
       "      <td>300</td>\n",
       "      <td>1</td>\n",
       "      <td>Lost</td>\n",
       "    </tr>\n",
       "    <tr>\n",
       "      <th>6</th>\n",
       "      <td>Queen's Gambit Declined: Baltic Defense</td>\n",
       "      <td>1175</td>\n",
       "      <td>1228</td>\n",
       "      <td>-53</td>\n",
       "      <td>300</td>\n",
       "      <td>1</td>\n",
       "      <td>Lost</td>\n",
       "    </tr>\n",
       "  </tbody>\n",
       "</table>\n",
       "</div>"
      ],
      "text/plain": [
       "                                     Opening  White Elo  Black Elo  \\\n",
       "0           Sicilian Defense: Bowdler Attack       1429       1460   \n",
       "1      King's Pawn Game: Leonardis Variation       1687       1647   \n",
       "3  Queen's Gambit Declined: Marshall Defense       1101       1086   \n",
       "4       Sicilian Defense: Smith-Morra Gambit       1362       1408   \n",
       "6    Queen's Gambit Declined: Baltic Defense       1175       1228   \n",
       "\n",
       "   Elo Difference Time Control Time Control: Increment White Result  \n",
       "0             -31          300                       1          Won  \n",
       "1              40          300                       1          Won  \n",
       "3              15          300                       1         Lost  \n",
       "4             -46          300                       1         Lost  \n",
       "6             -53          300                       1         Lost  "
      ]
     },
     "execution_count": 14,
     "metadata": {},
     "output_type": "execute_result"
    }
   ],
   "source": [
    "df.head()"
   ]
  },
  {
   "cell_type": "code",
   "execution_count": 15,
   "id": "9960abe0",
   "metadata": {},
   "outputs": [
    {
     "data": {
      "text/plain": [
       "(27172292, 7)"
      ]
     },
     "execution_count": 15,
     "metadata": {},
     "output_type": "execute_result"
    }
   ],
   "source": [
    "df.shape"
   ]
  },
  {
   "cell_type": "markdown",
   "id": "9e502566",
   "metadata": {},
   "source": [
    "# Train/Test Split\n"
   ]
  },
  {
   "cell_type": "code",
   "execution_count": 16,
   "id": "fcb27ce4",
   "metadata": {},
   "outputs": [
    {
     "data": {
      "text/plain": [
       "(19020604.4, 8151687.6)"
      ]
     },
     "execution_count": 16,
     "metadata": {},
     "output_type": "execute_result"
    }
   ],
   "source": [
    "# What partition sizes would you have with a 70/30 train/test split?\n",
    "len(df) * .7, len(df) * .3, "
   ]
  },
  {
   "cell_type": "code",
   "execution_count": 17,
   "id": "e83b0404",
   "metadata": {},
   "outputs": [],
   "source": [
    "'''Split the chess game data into training and test sets for use in machine learning models'''\n",
    "\n",
    "X_train, X_test, y_train, y_test = train_test_split(df.drop(columns='White Result'), \n",
    "                                                    df['White Result'], test_size=0.7, \n",
    "                                                    random_state=47)\n"
   ]
  },
  {
   "cell_type": "code",
   "execution_count": 18,
   "id": "cec450bb",
   "metadata": {},
   "outputs": [
    {
     "name": "stdout",
     "output_type": "stream",
     "text": [
      "['White Elo', 'Black Elo', 'Elo Difference', 'Opening', 'Time Control', 'Time Control: Increment']\n"
     ]
    }
   ],
   "source": [
    "# Get a list of the numeric features\n",
    "numeric_features = X_train.select_dtypes(include='number').columns.tolist()\n",
    "\n",
    "# Get a list of the categorical features\n",
    "categorical_features = X_train.select_dtypes(exclude='number').columns.tolist()\n",
    "\n",
    "# Combine the lists \n",
    "features = numeric_features + categorical_features\n",
    "print(features)"
   ]
  },
  {
   "cell_type": "code",
   "execution_count": 19,
   "id": "d53e3395",
   "metadata": {},
   "outputs": [
    {
     "data": {
      "text/plain": [
       "((8151687, 6), (19020605, 6))"
      ]
     },
     "execution_count": 19,
     "metadata": {},
     "output_type": "execute_result"
    }
   ],
   "source": [
    "X_train.shape, X_test.shape"
   ]
  },
  {
   "cell_type": "code",
   "execution_count": 20,
   "id": "ea2bee89",
   "metadata": {},
   "outputs": [
    {
     "data": {
      "text/plain": [
       "((8151687,), (19020605,))"
      ]
     },
     "execution_count": 20,
     "metadata": {},
     "output_type": "execute_result"
    }
   ],
   "source": [
    "y_train.shape, y_test.shape"
   ]
  },
  {
   "cell_type": "code",
   "execution_count": 21,
   "id": "669a1f51",
   "metadata": {},
   "outputs": [
    {
     "name": "stdout",
     "output_type": "stream",
     "text": [
      "Train Accuracy 0.9531440547214337\n",
      "Test Accuracy 0.4811738638176861\n"
     ]
    }
   ],
   "source": [
    "'''Build a machine learning pipeline to preprocess the chess game\n",
    "data and train a random forest classifier model.'''\n",
    "\n",
    "pipeline = make_pipeline(\n",
    "    ce.OrdinalEncoder(), \n",
    "    SimpleImputer(strategy='mean'), \n",
    "    RandomForestClassifier(random_state=42)\n",
    ")\n",
    "\n",
    "# Fit on train\n",
    "pipeline.fit(X_train, y_train)\n",
    "\n",
    "# Score on train and test\n",
    "print('Train Accuracy', pipeline.score(X_train, y_train))\n",
    "print('Test Accuracy', pipeline.score(X_test, y_test))"
   ]
  },
  {
   "cell_type": "code",
   "execution_count": 22,
   "id": "b6be6446",
   "metadata": {},
   "outputs": [
    {
     "data": {
      "image/png": "[encoded data removed]",
      "text/plain": [
       "<Figure size 720x2160 with 1 Axes>"
      ]
     },
     "metadata": {
      "needs_background": "light"
     },
     "output_type": "display_data"
    }
   ],
   "source": [
    "'''visualize the feature importances of the random forest classifier model trained \n",
    "in the previous section. Feature importances tell us which features the model \n",
    "considered to be most important in making predictions.'''\n",
    "\n",
    "\n",
    "%matplotlib inline\n",
    "\n",
    "model = pipeline.named_steps['randomforestclassifier']\n",
    "encoder = pipeline.named_steps['ordinalencoder']\n",
    "encoded_columns = encoder.transform(X_test).columns\n",
    "importances = pd.Series(model.feature_importances_, encoded_columns)\n",
    "plt.figure(figsize=(10,30))\n",
    "importances.sort_values().plot.barh(color='grey');"
   ]
  },
  {
   "cell_type": "code",
   "execution_count": 23,
   "id": "c4d77547",
   "metadata": {},
   "outputs": [
    {
     "name": "stdout",
     "output_type": "stream",
     "text": [
      "Train Accuracy 0.5102060469201037\n",
      "Test Accuracy 0.510206221095491\n"
     ]
    },
    {
     "data": {
      "image/svg+xml": [
       "<?xml version=\"1.0\" encoding=\"UTF-8\" standalone=\"no\"?>\n",
       "<!DOCTYPE svg PUBLIC \"-//W3C//DTD SVG 1.1//EN\"\n",
       " \"http://www.w3.org/Graphics/SVG/1.1/DTD/svg11.dtd\">\n",
       "<!-- Generated by graphviz version 2.50.0 (0)\n",
       " -->\n",
       "<!-- Title: Tree Pages: 1 -->\n",
       "<svg width=\"1638pt\" height=\"373pt\"\n",
       " viewBox=\"0.00 0.00 1638.00 373.00\" xmlns=\"http://www.w3.org/2000/svg\" xmlns:xlink=\"http://www.w3.org/1999/xlink\">\n",
       "<g id=\"graph0\" class=\"graph\" transform=\"scale(1 1) rotate(0) translate(4 369)\">\n",
       "<title>Tree</title>\n",
       "<polygon fill=\"white\" stroke=\"transparent\" points=\"-4,4 -4,-369 1634,-369 1634,4 -4,4\"/>\n",
       "<!-- 0 -->\n",
       "<g id=\"node1\" class=\"node\">\n",
       "<title>0</title>\n",
       "<path fill=\"#f7f2fd\" stroke=\"black\" d=\"M897,-365C897,-365 733,-365 733,-365 727,-365 721,-359 721,-353 721,-353 721,-309 721,-309 721,-303 727,-297 733,-297 733,-297 897,-297 897,-297 903,-297 909,-303 909,-309 909,-309 909,-353 909,-353 909,-359 903,-365 897,-365\"/>\n",
       "<text text-anchor=\"middle\" x=\"815\" y=\"-349.8\" font-family=\"Helvetica,sans-Serif\" font-size=\"14.00\">Elo Difference &lt;= 3.5</text>\n",
       "<text text-anchor=\"middle\" x=\"815\" y=\"-334.8\" font-family=\"Helvetica,sans-Serif\" font-size=\"14.00\">samples = 100.0%</text>\n",
       "<text text-anchor=\"middle\" x=\"815\" y=\"-319.8\" font-family=\"Helvetica,sans-Serif\" font-size=\"14.00\">value = [0.042, 0.461, 0.496]</text>\n",
       "<text text-anchor=\"middle\" x=\"815\" y=\"-304.8\" font-family=\"Helvetica,sans-Serif\" font-size=\"14.00\">class = Won</text>\n",
       "</g>\n",
       "<!-- 1 -->\n",
       "<g id=\"node2\" class=\"node\">\n",
       "<title>1</title>\n",
       "<path fill=\"#fafefc\" stroke=\"black\" d=\"M691,-261C691,-261 527,-261 527,-261 521,-261 515,-255 515,-249 515,-249 515,-205 515,-205 515,-199 521,-193 527,-193 527,-193 691,-193 691,-193 697,-193 703,-199 703,-205 703,-205 703,-249 703,-249 703,-255 697,-261 691,-261\"/>\n",
       "<text text-anchor=\"middle\" x=\"609\" y=\"-245.8\" font-family=\"Helvetica,sans-Serif\" font-size=\"14.00\">Elo Difference &lt;= &#45;37.5</text>\n",
       "<text text-anchor=\"middle\" x=\"609\" y=\"-230.8\" font-family=\"Helvetica,sans-Serif\" font-size=\"14.00\">samples = 55.0%</text>\n",
       "<text text-anchor=\"middle\" x=\"609\" y=\"-215.8\" font-family=\"Helvetica,sans-Serif\" font-size=\"14.00\">value = [0.043, 0.486, 0.471]</text>\n",
       "<text text-anchor=\"middle\" x=\"609\" y=\"-200.8\" font-family=\"Helvetica,sans-Serif\" font-size=\"14.00\">class = Lost</text>\n",
       "</g>\n",
       "<!-- 0&#45;&gt;1 -->\n",
       "<g id=\"edge1\" class=\"edge\">\n",
       "<title>0&#45;&gt;1</title>\n",
       "<path fill=\"none\" stroke=\"black\" d=\"M748.12,-296.88C727.96,-286.9 705.68,-275.87 684.98,-265.62\"/>\n",
       "<polygon fill=\"black\" stroke=\"black\" points=\"686.41,-262.43 675.9,-261.12 683.31,-268.7 686.41,-262.43\"/>\n",
       "<text text-anchor=\"middle\" x=\"683.9\" y=\"-281.11\" font-family=\"Helvetica,sans-Serif\" font-size=\"14.00\">True</text>\n",
       "</g>\n",
       "<!-- 8 -->\n",
       "<g id=\"node9\" class=\"node\">\n",
       "<title>8</title>\n",
       "<path fill=\"#eadefb\" stroke=\"black\" d=\"M1103,-261C1103,-261 939,-261 939,-261 933,-261 927,-255 927,-249 927,-249 927,-205 927,-205 927,-199 933,-193 939,-193 939,-193 1103,-193 1103,-193 1109,-193 1115,-199 1115,-205 1115,-205 1115,-249 1115,-249 1115,-255 1109,-261 1103,-261\"/>\n",
       "<text text-anchor=\"middle\" x=\"1021\" y=\"-245.8\" font-family=\"Helvetica,sans-Serif\" font-size=\"14.00\">Elo Difference &lt;= 40.5</text>\n",
       "<text text-anchor=\"middle\" x=\"1021\" y=\"-230.8\" font-family=\"Helvetica,sans-Serif\" font-size=\"14.00\">samples = 45.0%</text>\n",
       "<text text-anchor=\"middle\" x=\"1021\" y=\"-215.8\" font-family=\"Helvetica,sans-Serif\" font-size=\"14.00\">value = [0.042, 0.431, 0.527]</text>\n",
       "<text text-anchor=\"middle\" x=\"1021\" y=\"-200.8\" font-family=\"Helvetica,sans-Serif\" font-size=\"14.00\">class = Won</text>\n",
       "</g>\n",
       "<!-- 0&#45;&gt;8 -->\n",
       "<g id=\"edge8\" class=\"edge\">\n",
       "<title>0&#45;&gt;8</title>\n",
       "<path fill=\"none\" stroke=\"black\" d=\"M881.88,-296.88C902.04,-286.9 924.32,-275.87 945.02,-265.62\"/>\n",
       "<polygon fill=\"black\" stroke=\"black\" points=\"946.69,-268.7 954.1,-261.12 943.59,-262.43 946.69,-268.7\"/>\n",
       "<text text-anchor=\"middle\" x=\"946.1\" y=\"-281.11\" font-family=\"Helvetica,sans-Serif\" font-size=\"14.00\">False</text>\n",
       "</g>\n",
       "<!-- 2 -->\n",
       "<g id=\"node3\" class=\"node\">\n",
       "<title>2</title>\n",
       "<path fill=\"#e5fcee\" stroke=\"black\" d=\"M382,-157C382,-157 218,-157 218,-157 212,-157 206,-151 206,-145 206,-145 206,-101 206,-101 206,-95 212,-89 218,-89 218,-89 382,-89 382,-89 388,-89 394,-95 394,-101 394,-101 394,-145 394,-145 394,-151 388,-157 382,-157\"/>\n",
       "<text text-anchor=\"middle\" x=\"300\" y=\"-141.8\" font-family=\"Helvetica,sans-Serif\" font-size=\"14.00\">Elo Difference &lt;= &#45;64.5</text>\n",
       "<text text-anchor=\"middle\" x=\"300\" y=\"-126.8\" font-family=\"Helvetica,sans-Serif\" font-size=\"14.00\">samples = 16.6%</text>\n",
       "<text text-anchor=\"middle\" x=\"300\" y=\"-111.8\" font-family=\"Helvetica,sans-Serif\" font-size=\"14.00\">value = [0.043, 0.516, 0.441]</text>\n",
       "<text text-anchor=\"middle\" x=\"300\" y=\"-96.8\" font-family=\"Helvetica,sans-Serif\" font-size=\"14.00\">class = Lost</text>\n",
       "</g>\n",
       "<!-- 1&#45;&gt;2 -->\n",
       "<g id=\"edge2\" class=\"edge\">\n",
       "<title>1&#45;&gt;2</title>\n",
       "<path fill=\"none\" stroke=\"black\" d=\"M514.61,-194.84C479.5,-183.25 439.48,-170.04 403.59,-158.2\"/>\n",
       "<polygon fill=\"black\" stroke=\"black\" points=\"404.67,-154.87 394.08,-155.05 402.48,-161.51 404.67,-154.87\"/>\n",
       "</g>\n",
       "<!-- 5 -->\n",
       "<g id=\"node6\" class=\"node\">\n",
       "<title>5</title>\n",
       "<path fill=\"#fcfbfe\" stroke=\"black\" d=\"M691,-157C691,-157 527,-157 527,-157 521,-157 515,-151 515,-145 515,-145 515,-101 515,-101 515,-95 521,-89 527,-89 527,-89 691,-89 691,-89 697,-89 703,-95 703,-101 703,-101 703,-145 703,-145 703,-151 697,-157 691,-157\"/>\n",
       "<text text-anchor=\"middle\" x=\"609\" y=\"-141.8\" font-family=\"Helvetica,sans-Serif\" font-size=\"14.00\">Elo Difference &lt;= &#45;15.5</text>\n",
       "<text text-anchor=\"middle\" x=\"609\" y=\"-126.8\" font-family=\"Helvetica,sans-Serif\" font-size=\"14.00\">samples = 38.5%</text>\n",
       "<text text-anchor=\"middle\" x=\"609\" y=\"-111.8\" font-family=\"Helvetica,sans-Serif\" font-size=\"14.00\">value = [0.042, 0.473, 0.485]</text>\n",
       "<text text-anchor=\"middle\" x=\"609\" y=\"-96.8\" font-family=\"Helvetica,sans-Serif\" font-size=\"14.00\">class = Won</text>\n",
       "</g>\n",
       "<!-- 1&#45;&gt;5 -->\n",
       "<g id=\"edge5\" class=\"edge\">\n",
       "<title>1&#45;&gt;5</title>\n",
       "<path fill=\"none\" stroke=\"black\" d=\"M609,-192.88C609,-184.78 609,-175.98 609,-167.47\"/>\n",
       "<polygon fill=\"black\" stroke=\"black\" points=\"612.5,-167.3 609,-157.3 605.5,-167.3 612.5,-167.3\"/>\n",
       "</g>\n",
       "<!-- 3 -->\n",
       "<g id=\"node4\" class=\"node\">\n",
       "<title>3</title>\n",
       "<path fill=\"#dafae7\" stroke=\"black\" d=\"M176,-53C176,-53 12,-53 12,-53 6,-53 0,-47 0,-41 0,-41 0,-12 0,-12 0,-6 6,0 12,0 12,0 176,0 176,0 182,0 188,-6 188,-12 188,-12 188,-41 188,-41 188,-47 182,-53 176,-53\"/>\n",
       "<text text-anchor=\"middle\" x=\"94\" y=\"-37.8\" font-family=\"Helvetica,sans-Serif\" font-size=\"14.00\">samples = 6.5%</text>\n",
       "<text text-anchor=\"middle\" x=\"94\" y=\"-22.8\" font-family=\"Helvetica,sans-Serif\" font-size=\"14.00\">value = [0.044, 0.532, 0.424]</text>\n",
       "<text text-anchor=\"middle\" x=\"94\" y=\"-7.8\" font-family=\"Helvetica,sans-Serif\" font-size=\"14.00\">class = Lost</text>\n",
       "</g>\n",
       "<!-- 2&#45;&gt;3 -->\n",
       "<g id=\"edge3\" class=\"edge\">\n",
       "<title>2&#45;&gt;3</title>\n",
       "<path fill=\"none\" stroke=\"black\" d=\"M227.95,-88.95C205.51,-78.66 180.92,-67.37 158.99,-57.32\"/>\n",
       "<polygon fill=\"black\" stroke=\"black\" points=\"160.32,-54.08 149.78,-53.09 157.41,-60.44 160.32,-54.08\"/>\n",
       "</g>\n",
       "<!-- 4 -->\n",
       "<g id=\"node5\" class=\"node\">\n",
       "<title>4</title>\n",
       "<path fill=\"#ecfdf3\" stroke=\"black\" d=\"M382,-53C382,-53 218,-53 218,-53 212,-53 206,-47 206,-41 206,-41 206,-12 206,-12 206,-6 212,0 218,0 218,0 382,0 382,0 388,0 394,-6 394,-12 394,-12 394,-41 394,-41 394,-47 388,-53 382,-53\"/>\n",
       "<text text-anchor=\"middle\" x=\"300\" y=\"-37.8\" font-family=\"Helvetica,sans-Serif\" font-size=\"14.00\">samples = 10.0%</text>\n",
       "<text text-anchor=\"middle\" x=\"300\" y=\"-22.8\" font-family=\"Helvetica,sans-Serif\" font-size=\"14.00\">value = [0.043, 0.505, 0.452]</text>\n",
       "<text text-anchor=\"middle\" x=\"300\" y=\"-7.8\" font-family=\"Helvetica,sans-Serif\" font-size=\"14.00\">class = Lost</text>\n",
       "</g>\n",
       "<!-- 2&#45;&gt;4 -->\n",
       "<g id=\"edge4\" class=\"edge\">\n",
       "<title>2&#45;&gt;4</title>\n",
       "<path fill=\"none\" stroke=\"black\" d=\"M300,-88.95C300,-80.72 300,-71.85 300,-63.48\"/>\n",
       "<polygon fill=\"black\" stroke=\"black\" points=\"303.5,-63.24 300,-53.24 296.5,-63.24 303.5,-63.24\"/>\n",
       "</g>\n",
       "<!-- 6 -->\n",
       "<g id=\"node7\" class=\"node\">\n",
       "<title>6</title>\n",
       "<path fill=\"#fbfffd\" stroke=\"black\" d=\"M588,-53C588,-53 424,-53 424,-53 418,-53 412,-47 412,-41 412,-41 412,-12 412,-12 412,-6 418,0 424,0 424,0 588,0 588,0 594,0 600,-6 600,-12 600,-12 600,-41 600,-41 600,-47 594,-53 588,-53\"/>\n",
       "<text text-anchor=\"middle\" x=\"506\" y=\"-37.8\" font-family=\"Helvetica,sans-Serif\" font-size=\"14.00\">samples = 15.4%</text>\n",
       "<text text-anchor=\"middle\" x=\"506\" y=\"-22.8\" font-family=\"Helvetica,sans-Serif\" font-size=\"14.00\">value = [0.043, 0.484, 0.474]</text>\n",
       "<text text-anchor=\"middle\" x=\"506\" y=\"-7.8\" font-family=\"Helvetica,sans-Serif\" font-size=\"14.00\">class = Lost</text>\n",
       "</g>\n",
       "<!-- 5&#45;&gt;6 -->\n",
       "<g id=\"edge6\" class=\"edge\">\n",
       "<title>5&#45;&gt;6</title>\n",
       "<path fill=\"none\" stroke=\"black\" d=\"M572.98,-88.95C562.81,-79.62 551.75,-69.47 541.6,-60.16\"/>\n",
       "<polygon fill=\"black\" stroke=\"black\" points=\"543.79,-57.42 534.05,-53.24 539.05,-62.58 543.79,-57.42\"/>\n",
       "</g>\n",
       "<!-- 7 -->\n",
       "<g id=\"node8\" class=\"node\">\n",
       "<title>7</title>\n",
       "<path fill=\"#f9f6fe\" stroke=\"black\" d=\"M794,-53C794,-53 630,-53 630,-53 624,-53 618,-47 618,-41 618,-41 618,-12 618,-12 618,-6 624,0 630,0 630,0 794,0 794,0 800,0 806,-6 806,-12 806,-12 806,-41 806,-41 806,-47 800,-53 794,-53\"/>\n",
       "<text text-anchor=\"middle\" x=\"712\" y=\"-37.8\" font-family=\"Helvetica,sans-Serif\" font-size=\"14.00\">samples = 23.0%</text>\n",
       "<text text-anchor=\"middle\" x=\"712\" y=\"-22.8\" font-family=\"Helvetica,sans-Serif\" font-size=\"14.00\">value = [0.042, 0.466, 0.492]</text>\n",
       "<text text-anchor=\"middle\" x=\"712\" y=\"-7.8\" font-family=\"Helvetica,sans-Serif\" font-size=\"14.00\">class = Won</text>\n",
       "</g>\n",
       "<!-- 5&#45;&gt;7 -->\n",
       "<g id=\"edge7\" class=\"edge\">\n",
       "<title>5&#45;&gt;7</title>\n",
       "<path fill=\"none\" stroke=\"black\" d=\"M645.02,-88.95C655.19,-79.62 666.25,-69.47 676.4,-60.16\"/>\n",
       "<polygon fill=\"black\" stroke=\"black\" points=\"678.95,-62.58 683.95,-53.24 674.21,-57.42 678.95,-62.58\"/>\n",
       "</g>\n",
       "<!-- 9 -->\n",
       "<g id=\"node10\" class=\"node\">\n",
       "<title>9</title>\n",
       "<path fill=\"#efe6fc\" stroke=\"black\" d=\"M1103,-157C1103,-157 939,-157 939,-157 933,-157 927,-151 927,-145 927,-145 927,-101 927,-101 927,-95 933,-89 939,-89 939,-89 1103,-89 1103,-89 1109,-89 1115,-95 1115,-101 1115,-101 1115,-145 1115,-145 1115,-151 1109,-157 1103,-157\"/>\n",
       "<text text-anchor=\"middle\" x=\"1021\" y=\"-141.8\" font-family=\"Helvetica,sans-Serif\" font-size=\"14.00\">Elo Difference &lt;= 16.5</text>\n",
       "<text text-anchor=\"middle\" x=\"1021\" y=\"-126.8\" font-family=\"Helvetica,sans-Serif\" font-size=\"14.00\">samples = 30.0%</text>\n",
       "<text text-anchor=\"middle\" x=\"1021\" y=\"-111.8\" font-family=\"Helvetica,sans-Serif\" font-size=\"14.00\">value = [0.042, 0.444, 0.514]</text>\n",
       "<text text-anchor=\"middle\" x=\"1021\" y=\"-96.8\" font-family=\"Helvetica,sans-Serif\" font-size=\"14.00\">class = Won</text>\n",
       "</g>\n",
       "<!-- 8&#45;&gt;9 -->\n",
       "<g id=\"edge9\" class=\"edge\">\n",
       "<title>8&#45;&gt;9</title>\n",
       "<path fill=\"none\" stroke=\"black\" d=\"M1021,-192.88C1021,-184.78 1021,-175.98 1021,-167.47\"/>\n",
       "<polygon fill=\"black\" stroke=\"black\" points=\"1024.5,-167.3 1021,-157.3 1017.5,-167.3 1024.5,-167.3\"/>\n",
       "</g>\n",
       "<!-- 12 -->\n",
       "<g id=\"node13\" class=\"node\">\n",
       "<title>12</title>\n",
       "<path fill=\"#e0cef9\" stroke=\"black\" d=\"M1412,-157C1412,-157 1248,-157 1248,-157 1242,-157 1236,-151 1236,-145 1236,-145 1236,-101 1236,-101 1236,-95 1242,-89 1248,-89 1248,-89 1412,-89 1412,-89 1418,-89 1424,-95 1424,-101 1424,-101 1424,-145 1424,-145 1424,-151 1418,-157 1412,-157\"/>\n",
       "<text text-anchor=\"middle\" x=\"1330\" y=\"-141.8\" font-family=\"Helvetica,sans-Serif\" font-size=\"14.00\">Elo Difference &lt;= 69.5</text>\n",
       "<text text-anchor=\"middle\" x=\"1330\" y=\"-126.8\" font-family=\"Helvetica,sans-Serif\" font-size=\"14.00\">samples = 15.0%</text>\n",
       "<text text-anchor=\"middle\" x=\"1330\" y=\"-111.8\" font-family=\"Helvetica,sans-Serif\" font-size=\"14.00\">value = [0.042, 0.405, 0.553]</text>\n",
       "<text text-anchor=\"middle\" x=\"1330\" y=\"-96.8\" font-family=\"Helvetica,sans-Serif\" font-size=\"14.00\">class = Won</text>\n",
       "</g>\n",
       "<!-- 8&#45;&gt;12 -->\n",
       "<g id=\"edge12\" class=\"edge\">\n",
       "<title>8&#45;&gt;12</title>\n",
       "<path fill=\"none\" stroke=\"black\" d=\"M1115.39,-194.84C1150.5,-183.25 1190.52,-170.04 1226.41,-158.2\"/>\n",
       "<polygon fill=\"black\" stroke=\"black\" points=\"1227.52,-161.51 1235.92,-155.05 1225.33,-154.87 1227.52,-161.51\"/>\n",
       "</g>\n",
       "<!-- 10 -->\n",
       "<g id=\"node11\" class=\"node\">\n",
       "<title>10</title>\n",
       "<path fill=\"#f3ecfc\" stroke=\"black\" d=\"M1000,-53C1000,-53 836,-53 836,-53 830,-53 824,-47 824,-41 824,-41 824,-12 824,-12 824,-6 830,0 836,0 836,0 1000,0 1000,0 1006,0 1012,-6 1012,-12 1012,-12 1012,-41 1012,-41 1012,-47 1006,-53 1000,-53\"/>\n",
       "<text text-anchor=\"middle\" x=\"918\" y=\"-37.8\" font-family=\"Helvetica,sans-Serif\" font-size=\"14.00\">samples = 14.1%</text>\n",
       "<text text-anchor=\"middle\" x=\"918\" y=\"-22.8\" font-family=\"Helvetica,sans-Serif\" font-size=\"14.00\">value = [0.042, 0.453, 0.505]</text>\n",
       "<text text-anchor=\"middle\" x=\"918\" y=\"-7.8\" font-family=\"Helvetica,sans-Serif\" font-size=\"14.00\">class = Won</text>\n",
       "</g>\n",
       "<!-- 9&#45;&gt;10 -->\n",
       "<g id=\"edge10\" class=\"edge\">\n",
       "<title>9&#45;&gt;10</title>\n",
       "<path fill=\"none\" stroke=\"black\" d=\"M984.98,-88.95C974.81,-79.62 963.75,-69.47 953.6,-60.16\"/>\n",
       "<polygon fill=\"black\" stroke=\"black\" points=\"955.79,-57.42 946.05,-53.24 951.05,-62.58 955.79,-57.42\"/>\n",
       "</g>\n",
       "<!-- 11 -->\n",
       "<g id=\"node12\" class=\"node\">\n",
       "<title>11</title>\n",
       "<path fill=\"#ece2fb\" stroke=\"black\" d=\"M1206,-53C1206,-53 1042,-53 1042,-53 1036,-53 1030,-47 1030,-41 1030,-41 1030,-12 1030,-12 1030,-6 1036,0 1042,0 1042,0 1206,0 1206,0 1212,0 1218,-6 1218,-12 1218,-12 1218,-41 1218,-41 1218,-47 1212,-53 1206,-53\"/>\n",
       "<text text-anchor=\"middle\" x=\"1124\" y=\"-37.8\" font-family=\"Helvetica,sans-Serif\" font-size=\"14.00\">samples = 15.9%</text>\n",
       "<text text-anchor=\"middle\" x=\"1124\" y=\"-22.8\" font-family=\"Helvetica,sans-Serif\" font-size=\"14.00\">value = [0.042, 0.437, 0.521]</text>\n",
       "<text text-anchor=\"middle\" x=\"1124\" y=\"-7.8\" font-family=\"Helvetica,sans-Serif\" font-size=\"14.00\">class = Won</text>\n",
       "</g>\n",
       "<!-- 9&#45;&gt;11 -->\n",
       "<g id=\"edge11\" class=\"edge\">\n",
       "<title>9&#45;&gt;11</title>\n",
       "<path fill=\"none\" stroke=\"black\" d=\"M1057.02,-88.95C1067.19,-79.62 1078.25,-69.47 1088.4,-60.16\"/>\n",
       "<polygon fill=\"black\" stroke=\"black\" points=\"1090.95,-62.58 1095.95,-53.24 1086.21,-57.42 1090.95,-62.58\"/>\n",
       "</g>\n",
       "<!-- 13 -->\n",
       "<g id=\"node14\" class=\"node\">\n",
       "<title>13</title>\n",
       "<path fill=\"#e3d3f9\" stroke=\"black\" d=\"M1412,-53C1412,-53 1248,-53 1248,-53 1242,-53 1236,-47 1236,-41 1236,-41 1236,-12 1236,-12 1236,-6 1242,0 1248,0 1248,0 1412,0 1412,0 1418,0 1424,-6 1424,-12 1424,-12 1424,-41 1424,-41 1424,-47 1418,-53 1412,-53\"/>\n",
       "<text text-anchor=\"middle\" x=\"1330\" y=\"-37.8\" font-family=\"Helvetica,sans-Serif\" font-size=\"14.00\">samples = 9.7%</text>\n",
       "<text text-anchor=\"middle\" x=\"1330\" y=\"-22.8\" font-family=\"Helvetica,sans-Serif\" font-size=\"14.00\">value = [0.042, 0.414, 0.544]</text>\n",
       "<text text-anchor=\"middle\" x=\"1330\" y=\"-7.8\" font-family=\"Helvetica,sans-Serif\" font-size=\"14.00\">class = Won</text>\n",
       "</g>\n",
       "<!-- 12&#45;&gt;13 -->\n",
       "<g id=\"edge13\" class=\"edge\">\n",
       "<title>12&#45;&gt;13</title>\n",
       "<path fill=\"none\" stroke=\"black\" d=\"M1330,-88.95C1330,-80.72 1330,-71.85 1330,-63.48\"/>\n",
       "<polygon fill=\"black\" stroke=\"black\" points=\"1333.5,-63.24 1330,-53.24 1326.5,-63.24 1333.5,-63.24\"/>\n",
       "</g>\n",
       "<!-- 14 -->\n",
       "<g id=\"node15\" class=\"node\">\n",
       "<title>14</title>\n",
       "<path fill=\"#d9c3f7\" stroke=\"black\" d=\"M1618,-53C1618,-53 1454,-53 1454,-53 1448,-53 1442,-47 1442,-41 1442,-41 1442,-12 1442,-12 1442,-6 1448,0 1454,0 1454,0 1618,0 1618,0 1624,0 1630,-6 1630,-12 1630,-12 1630,-41 1630,-41 1630,-47 1624,-53 1618,-53\"/>\n",
       "<text text-anchor=\"middle\" x=\"1536\" y=\"-37.8\" font-family=\"Helvetica,sans-Serif\" font-size=\"14.00\">samples = 5.2%</text>\n",
       "<text text-anchor=\"middle\" x=\"1536\" y=\"-22.8\" font-family=\"Helvetica,sans-Serif\" font-size=\"14.00\">value = [0.042, 0.386, 0.571]</text>\n",
       "<text text-anchor=\"middle\" x=\"1536\" y=\"-7.8\" font-family=\"Helvetica,sans-Serif\" font-size=\"14.00\">class = Won</text>\n",
       "</g>\n",
       "<!-- 12&#45;&gt;14 -->\n",
       "<g id=\"edge14\" class=\"edge\">\n",
       "<title>12&#45;&gt;14</title>\n",
       "<path fill=\"none\" stroke=\"black\" d=\"M1402.05,-88.95C1424.49,-78.66 1449.08,-67.37 1471.01,-57.32\"/>\n",
       "<polygon fill=\"black\" stroke=\"black\" points=\"1472.59,-60.44 1480.22,-53.09 1469.68,-54.08 1472.59,-60.44\"/>\n",
       "</g>\n",
       "</g>\n",
       "</svg>\n"
      ],
      "text/plain": [
       "<graphviz.sources.Source at 0x1dfbc277730>"
      ]
     },
     "metadata": {},
     "output_type": "display_data"
    }
   ],
   "source": [
    "'''build a decision tree classifier using the same data and preprocessing steps as before, \n",
    "but this time using a decision tree classifier instead of a random forest classifier. \n",
    "We'll also visualize the resulting decision tree to gain insight into how it's making predictions.'''\n",
    "\n",
    "pipeline = make_pipeline(\n",
    "    ce.OrdinalEncoder(), \n",
    "    SimpleImputer(strategy='mean'), \n",
    "    DecisionTreeClassifier(max_depth=3, random_state=42)\n",
    ")\n",
    "\n",
    "# Fit on train\n",
    "pipeline.fit(X_train, y_train)\n",
    "\n",
    "# Score on train and test\n",
    "print('Train Accuracy', pipeline.score(X_train, y_train))\n",
    "print('Test Accuracy', pipeline.score(X_test, y_test))\n",
    "\n",
    "#make decision tree \n",
    "model = pipeline.named_steps['decisiontreeclassifier']\n",
    "encoder = pipeline.named_steps['ordinalencoder']\n",
    "encoded_columns = encoder.transform(X_test).columns\n",
    "\n",
    "dot_data = export_graphviz(model, \n",
    "                           out_file=None, \n",
    "                           max_depth=3, \n",
    "                           feature_names=encoded_columns,\n",
    "                           class_names=model.classes_, \n",
    "                           impurity=False, \n",
    "                           filled=True, \n",
    "                           proportion=True, \n",
    "                           rounded=True)   \n",
    "display(graphviz.Source(dot_data))"
   ]
  },
  {
   "cell_type": "markdown",
   "id": "71870053",
   "metadata": {},
   "source": [
    "In summary, the above preprocesses, trains, and models a dataset of chess game outcomes. Two models, a decision tree model and a random forest model, were built using these datasets.\n",
    "\n",
    "Unfortunately, the results indicate that both models have a high accuracy rate, but there is an issue of overfitting, suggesting the models are not performing well on new data. Further iterations could be made to improve the models' performance.\n",
    "\n",
    "The feature importance of the model is visualized using a horizontal bar plot, and the plot reveals that the most important feature is opening, followed by elo, and then elo difference.\n",
    "\n",
    "Additionally, the report concludes that the data gathered from the EDA provides insight into the success of each opening, which could be further explored to improve model performance.\n",
    "\n",
    "Specifically, the decision tree model had a train and test accuracy of 0.51, which is only slightly more accurate than a coin flip. Meanwhile, the random forest model had a high train accuracy of 0.95, but a lower test accuracy of 0.48. This discrepancy is likely due to overfitting, indicating that further iterations and adjustments are needed for better model performance."
   ]
  },
  {
   "cell_type": "code",
   "execution_count": null,
   "id": "6ac66305",
   "metadata": {},
   "outputs": [],
   "source": []
  }
 ],
 "metadata": {
  "kernelspec": {
   "display_name": "Python 3 (ipykernel)",
   "language": "python",
   "name": "python3"
  },
  "language_info": {
   "codemirror_mode": {
    "name": "ipython",
    "version": 3
   },
   "file_extension": ".py",
   "mimetype": "text/x-python",
   "name": "python",
   "nbconvert_exporter": "python",
   "pygments_lexer": "ipython3",
   "version": "3.9.12"
  }
 },
 "nbformat": 4,
 "nbformat_minor": 5
}
