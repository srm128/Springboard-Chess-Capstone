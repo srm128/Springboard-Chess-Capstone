{
 "cells": [
  {
   "cell_type": "code",
   "execution_count": 1,
   "id": "ac4ceeb0",
   "metadata": {},
   "outputs": [],
   "source": [
    "import pandas as pd\n",
    "import numpy as np\n",
    "import re # We import Python's Regular Expressions library\n",
    "\n",
    "\n"
   ]
  },
  {
   "cell_type": "code",
   "execution_count": 2,
   "id": "df8de115",
   "metadata": {},
   "outputs": [],
   "source": [
    "def get_quoted_value(source_string):\n",
    "    quote_pattern = '\\\"(.*?)\\\"'\n",
    "    match = re.search(quote_pattern, line).group(1)\n",
    "    return match\n",
    "\n",
    "lichess_data = r\"C:\\Users\\PC\\Desktop\\Springboard Data Science Career Track\\Github Springboard Repository\\Springboard\\lichess_db_standard_rated_2022_08.pgn\"\n",
    "file = open(lichess_data, mode=\"r\")\n",
    "\n",
    "game_urls = []\n",
    "\n",
    "for line in file:\n",
    "\n",
    "    if line.startswith('[Site'):\n",
    "        game_urls.append(get_quoted_value(line))"
   ]
  },
  {
   "cell_type": "code",
   "execution_count": 3,
   "id": "44c36f49",
   "metadata": {},
   "outputs": [
    {
     "name": "stdout",
     "output_type": "stream",
     "text": [
      "game_urls observations:  92670440\n"
     ]
    }
   ],
   "source": [
    "print(\"game_urls observations: \" , len(game_urls))"
   ]
  },
  {
   "cell_type": "code",
   "execution_count": 4,
   "id": "e6d1696b",
   "metadata": {},
   "outputs": [],
   "source": [
    "df = pd.DataFrame(\n",
    "    {\n",
    "        'Game URL': game_urls\n",
    "    }\n",
    ")\n"
   ]
  },
  {
   "cell_type": "code",
   "execution_count": 5,
   "id": "d68444b0",
   "metadata": {},
   "outputs": [],
   "source": [
    "df.to_csv(r'C:\\Users\\PC\\Desktop\\Springboard Data Science Career Track\\Github Springboard Repository\\Springboard\\DataScience Capstone 2\\lichess_dataframe_game_urls.csv')"
   ]
  },
  {
   "cell_type": "code",
   "execution_count": 6,
   "id": "d5cf14cd",
   "metadata": {},
   "outputs": [
    {
     "data": {
      "text/html": [
       "<div>\n",
       "<style scoped>\n",
       "    .dataframe tbody tr th:only-of-type {\n",
       "        vertical-align: middle;\n",
       "    }\n",
       "\n",
       "    .dataframe tbody tr th {\n",
       "        vertical-align: top;\n",
       "    }\n",
       "\n",
       "    .dataframe thead th {\n",
       "        text-align: right;\n",
       "    }\n",
       "</style>\n",
       "<table border=\"1\" class=\"dataframe\">\n",
       "  <thead>\n",
       "    <tr style=\"text-align: right;\">\n",
       "      <th></th>\n",
       "      <th>Game URL</th>\n",
       "    </tr>\n",
       "  </thead>\n",
       "  <tbody>\n",
       "    <tr>\n",
       "      <th>0</th>\n",
       "      <td>https://lichess.org/aAcMUViA</td>\n",
       "    </tr>\n",
       "    <tr>\n",
       "      <th>1</th>\n",
       "      <td>https://lichess.org/brBOPdLj</td>\n",
       "    </tr>\n",
       "    <tr>\n",
       "      <th>2</th>\n",
       "      <td>https://lichess.org/pk0m4lj8</td>\n",
       "    </tr>\n",
       "    <tr>\n",
       "      <th>3</th>\n",
       "      <td>https://lichess.org/ZXitDcRa</td>\n",
       "    </tr>\n",
       "    <tr>\n",
       "      <th>4</th>\n",
       "      <td>https://lichess.org/j50FcHUm</td>\n",
       "    </tr>\n",
       "    <tr>\n",
       "      <th>...</th>\n",
       "      <td>...</td>\n",
       "    </tr>\n",
       "    <tr>\n",
       "      <th>95</th>\n",
       "      <td>https://lichess.org/qYOk8ZLC</td>\n",
       "    </tr>\n",
       "    <tr>\n",
       "      <th>96</th>\n",
       "      <td>https://lichess.org/IeGNWO8o</td>\n",
       "    </tr>\n",
       "    <tr>\n",
       "      <th>97</th>\n",
       "      <td>https://lichess.org/BYewdAGM</td>\n",
       "    </tr>\n",
       "    <tr>\n",
       "      <th>98</th>\n",
       "      <td>https://lichess.org/9NPb2WlF</td>\n",
       "    </tr>\n",
       "    <tr>\n",
       "      <th>99</th>\n",
       "      <td>https://lichess.org/H3P0pKmZ</td>\n",
       "    </tr>\n",
       "  </tbody>\n",
       "</table>\n",
       "<p>100 rows × 1 columns</p>\n",
       "</div>"
      ],
      "text/plain": [
       "                        Game URL\n",
       "0   https://lichess.org/aAcMUViA\n",
       "1   https://lichess.org/brBOPdLj\n",
       "2   https://lichess.org/pk0m4lj8\n",
       "3   https://lichess.org/ZXitDcRa\n",
       "4   https://lichess.org/j50FcHUm\n",
       "..                           ...\n",
       "95  https://lichess.org/qYOk8ZLC\n",
       "96  https://lichess.org/IeGNWO8o\n",
       "97  https://lichess.org/BYewdAGM\n",
       "98  https://lichess.org/9NPb2WlF\n",
       "99  https://lichess.org/H3P0pKmZ\n",
       "\n",
       "[100 rows x 1 columns]"
      ]
     },
     "execution_count": 6,
     "metadata": {},
     "output_type": "execute_result"
    }
   ],
   "source": [
    "df.head(100)"
   ]
  }
 ],
 "metadata": {
  "kernelspec": {
   "display_name": "Python 3 (ipykernel)",
   "language": "python",
   "name": "python3"
  },
  "language_info": {
   "codemirror_mode": {
    "name": "ipython",
    "version": 3
   },
   "file_extension": ".py",
   "mimetype": "text/x-python",
   "name": "python",
   "nbconvert_exporter": "python",
   "pygments_lexer": "ipython3",
   "version": "3.9.12"
  }
 },
 "nbformat": 4,
 "nbformat_minor": 5
}
