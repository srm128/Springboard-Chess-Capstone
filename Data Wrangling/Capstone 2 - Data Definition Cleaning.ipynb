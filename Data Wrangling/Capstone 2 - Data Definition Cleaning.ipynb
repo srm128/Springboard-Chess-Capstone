{
 "cells": [
  {
   "cell_type": "code",
   "execution_count": 1,
   "id": "c366ffcb",
   "metadata": {},
   "outputs": [],
   "source": [
    "from pathlib import Path\n",
    "import pandas as pd\n",
    "import matplotlib.pyplot as plt\n",
    "import seaborn as sns\n",
    "import os\n"
   ]
  },
  {
   "cell_type": "code",
   "execution_count": 2,
   "id": "619f0116",
   "metadata": {},
   "outputs": [],
   "source": [
    "df = pd.read_csv(r\"C:\\Users\\PC\\Desktop\\Springboard Data Science Career Track\\Github Springboard Repository\\Springboard\\DataScience Capstone 2\\lichess_dataframe_all.csv\")\n"
   ]
  },
  {
   "cell_type": "code",
   "execution_count": 3,
   "id": "1fb07cea",
   "metadata": {},
   "outputs": [],
   "source": [
    "df = df[['Event', 'White Elo', 'Black Elo', 'Result', 'Termination', 'Time Control', 'Opening',\"Game URL\"]]\n"
   ]
  },
  {
   "cell_type": "code",
   "execution_count": 4,
   "id": "c2953d5b",
   "metadata": {},
   "outputs": [
    {
     "data": {
      "text/html": [
       "<div>\n",
       "<style scoped>\n",
       "    .dataframe tbody tr th:only-of-type {\n",
       "        vertical-align: middle;\n",
       "    }\n",
       "\n",
       "    .dataframe tbody tr th {\n",
       "        vertical-align: top;\n",
       "    }\n",
       "\n",
       "    .dataframe thead th {\n",
       "        text-align: right;\n",
       "    }\n",
       "</style>\n",
       "<table border=\"1\" class=\"dataframe\">\n",
       "  <thead>\n",
       "    <tr style=\"text-align: right;\">\n",
       "      <th></th>\n",
       "      <th>Event</th>\n",
       "      <th>White Elo</th>\n",
       "      <th>Black Elo</th>\n",
       "      <th>Result</th>\n",
       "      <th>Termination</th>\n",
       "      <th>Time Control</th>\n",
       "      <th>Opening</th>\n",
       "      <th>Game URL</th>\n",
       "    </tr>\n",
       "  </thead>\n",
       "  <tbody>\n",
       "    <tr>\n",
       "      <th>0</th>\n",
       "      <td>Rated Bullet game</td>\n",
       "      <td>1923</td>\n",
       "      <td>1910</td>\n",
       "      <td>1/2-1/2</td>\n",
       "      <td>Time forfeit</td>\n",
       "      <td>60+0</td>\n",
       "      <td>Modern Defense</td>\n",
       "      <td>https://lichess.org/aAcMUViA</td>\n",
       "    </tr>\n",
       "    <tr>\n",
       "      <th>1</th>\n",
       "      <td>Rated Bullet game</td>\n",
       "      <td>1781</td>\n",
       "      <td>1782</td>\n",
       "      <td>0-1</td>\n",
       "      <td>Time forfeit</td>\n",
       "      <td>60+0</td>\n",
       "      <td>Scandinavian Defense: Main Line</td>\n",
       "      <td>https://lichess.org/brBOPdLj</td>\n",
       "    </tr>\n",
       "    <tr>\n",
       "      <th>2</th>\n",
       "      <td>Rated Bullet game</td>\n",
       "      <td>2528</td>\n",
       "      <td>2355</td>\n",
       "      <td>1-0</td>\n",
       "      <td>Normal</td>\n",
       "      <td>60+0</td>\n",
       "      <td>Hungarian Opening: Slav Formation</td>\n",
       "      <td>https://lichess.org/pk0m4lj8</td>\n",
       "    </tr>\n",
       "    <tr>\n",
       "      <th>3</th>\n",
       "      <td>Rated Bullet game</td>\n",
       "      <td>2010</td>\n",
       "      <td>1996</td>\n",
       "      <td>1-0</td>\n",
       "      <td>Time forfeit</td>\n",
       "      <td>60+0</td>\n",
       "      <td>Rat Defense: Antal Defense</td>\n",
       "      <td>https://lichess.org/ZXitDcRa</td>\n",
       "    </tr>\n",
       "    <tr>\n",
       "      <th>4</th>\n",
       "      <td>Rated Bullet game</td>\n",
       "      <td>1805</td>\n",
       "      <td>1831</td>\n",
       "      <td>0-1</td>\n",
       "      <td>Time forfeit</td>\n",
       "      <td>60+0</td>\n",
       "      <td>Four Knights Game: Scotch Variation Accepted</td>\n",
       "      <td>https://lichess.org/j50FcHUm</td>\n",
       "    </tr>\n",
       "  </tbody>\n",
       "</table>\n",
       "</div>"
      ],
      "text/plain": [
       "               Event  White Elo  Black Elo   Result   Termination  \\\n",
       "0  Rated Bullet game       1923       1910  1/2-1/2  Time forfeit   \n",
       "1  Rated Bullet game       1781       1782      0-1  Time forfeit   \n",
       "2  Rated Bullet game       2528       2355      1-0        Normal   \n",
       "3  Rated Bullet game       2010       1996      1-0  Time forfeit   \n",
       "4  Rated Bullet game       1805       1831      0-1  Time forfeit   \n",
       "\n",
       "  Time Control                                       Opening  \\\n",
       "0         60+0                                Modern Defense   \n",
       "1         60+0               Scandinavian Defense: Main Line   \n",
       "2         60+0             Hungarian Opening: Slav Formation   \n",
       "3         60+0                    Rat Defense: Antal Defense   \n",
       "4         60+0  Four Knights Game: Scotch Variation Accepted   \n",
       "\n",
       "                       Game URL  \n",
       "0  https://lichess.org/aAcMUViA  \n",
       "1  https://lichess.org/brBOPdLj  \n",
       "2  https://lichess.org/pk0m4lj8  \n",
       "3  https://lichess.org/ZXitDcRa  \n",
       "4  https://lichess.org/j50FcHUm  "
      ]
     },
     "execution_count": 4,
     "metadata": {},
     "output_type": "execute_result"
    }
   ],
   "source": [
    "df.head()"
   ]
  },
  {
   "cell_type": "markdown",
   "id": "a6bfc8ad",
   "metadata": {},
   "source": [
    "While definitions will be provided later on as we explore each column, \n",
    "Let's define all of the columns up front.\n",
    "Event: Related to time control, Event is the type of chess game. \n",
    "White Elo/Black Elo: This is player ratings. \n",
    "Result: Who won. 1-0 is White. 0-1 is Black. 1/2-1/2 is a draw. \n",
    "Termination: How the game finished. Did a player resign or were they checkmated. \n",
    "Time Control: Speaks for itself. Is in seconds and the number following the \"+\" is the increment if any.\n",
    "Opening: Name of the opening players played. It is generally defined by the first few moves and it is dependent on both players' moves. \n",
    "Game URL: Unique identifier for each game. Able to go to see them online.\n"
   ]
  },
  {
   "cell_type": "code",
   "execution_count": 5,
   "id": "9117ddb4",
   "metadata": {},
   "outputs": [
    {
     "data": {
      "text/plain": [
       "(92670440, 8)"
      ]
     },
     "execution_count": 5,
     "metadata": {},
     "output_type": "execute_result"
    }
   ],
   "source": [
    "df.shape"
   ]
  },
  {
   "cell_type": "code",
   "execution_count": 6,
   "id": "608e82ae",
   "metadata": {},
   "outputs": [
    {
     "data": {
      "text/html": [
       "<div>\n",
       "<style scoped>\n",
       "    .dataframe tbody tr th:only-of-type {\n",
       "        vertical-align: middle;\n",
       "    }\n",
       "\n",
       "    .dataframe tbody tr th {\n",
       "        vertical-align: top;\n",
       "    }\n",
       "\n",
       "    .dataframe thead th {\n",
       "        text-align: right;\n",
       "    }\n",
       "</style>\n",
       "<table border=\"1\" class=\"dataframe\">\n",
       "  <thead>\n",
       "    <tr style=\"text-align: right;\">\n",
       "      <th></th>\n",
       "      <th>count</th>\n",
       "      <th>%</th>\n",
       "    </tr>\n",
       "  </thead>\n",
       "  <tbody>\n",
       "    <tr>\n",
       "      <th>Event</th>\n",
       "      <td>0</td>\n",
       "      <td>0.0</td>\n",
       "    </tr>\n",
       "    <tr>\n",
       "      <th>White Elo</th>\n",
       "      <td>0</td>\n",
       "      <td>0.0</td>\n",
       "    </tr>\n",
       "    <tr>\n",
       "      <th>Black Elo</th>\n",
       "      <td>0</td>\n",
       "      <td>0.0</td>\n",
       "    </tr>\n",
       "    <tr>\n",
       "      <th>Result</th>\n",
       "      <td>0</td>\n",
       "      <td>0.0</td>\n",
       "    </tr>\n",
       "    <tr>\n",
       "      <th>Termination</th>\n",
       "      <td>0</td>\n",
       "      <td>0.0</td>\n",
       "    </tr>\n",
       "    <tr>\n",
       "      <th>Time Control</th>\n",
       "      <td>0</td>\n",
       "      <td>0.0</td>\n",
       "    </tr>\n",
       "    <tr>\n",
       "      <th>Opening</th>\n",
       "      <td>0</td>\n",
       "      <td>0.0</td>\n",
       "    </tr>\n",
       "    <tr>\n",
       "      <th>Game URL</th>\n",
       "      <td>0</td>\n",
       "      <td>0.0</td>\n",
       "    </tr>\n",
       "  </tbody>\n",
       "</table>\n",
       "</div>"
      ],
      "text/plain": [
       "              count    %\n",
       "Event             0  0.0\n",
       "White Elo         0  0.0\n",
       "Black Elo         0  0.0\n",
       "Result            0  0.0\n",
       "Termination       0  0.0\n",
       "Time Control      0  0.0\n",
       "Opening           0  0.0\n",
       "Game URL          0  0.0"
      ]
     },
     "execution_count": 6,
     "metadata": {},
     "output_type": "execute_result"
    }
   ],
   "source": [
    "#number of missing values by column\n",
    "missing = pd.concat([df.isnull().sum(), 100 * df.isnull().mean()], axis=1)\n",
    "missing.columns=[\"count\", \"%\"]\n",
    "missing.sort_values(by=[\"count\"], ascending=False)"
   ]
  },
  {
   "cell_type": "code",
   "execution_count": 7,
   "id": "ef6f8cb4",
   "metadata": {},
   "outputs": [
    {
     "data": {
      "text/plain": [
       "array(['Rated Bullet game', 'Rated Blitz game', 'Rated Rapid game', ...,\n",
       "       'Rated Rapid tournament https://lichess.org/tournament/3vjTqTQZ',\n",
       "       'Rated Blitz tournament https://lichess.org/tournament/hauGbCp1',\n",
       "       'Rated Blitz tournament https://lichess.org/tournament/9rdFoCwd'],\n",
       "      dtype=object)"
      ]
     },
     "execution_count": 7,
     "metadata": {},
     "output_type": "execute_result"
    }
   ],
   "source": [
    "# Taking a look at different event types. We may choose to get rid of some. \n",
    "\n",
    "df.Event.unique()"
   ]
  },
  {
   "cell_type": "code",
   "execution_count": 8,
   "id": "636304e1",
   "metadata": {},
   "outputs": [],
   "source": [
    "# As seen above, we need to remove the hyperlink from the above events. The hyperlinks appear to be special events (like tournaments as opposed to the general pool). \n",
    "\n",
    "import numpy as np\n",
    "import re # We import Python's Regular Expressions library"
   ]
  },
  {
   "cell_type": "code",
   "execution_count": 9,
   "id": "329bcda9",
   "metadata": {},
   "outputs": [],
   "source": [
    "df['Event'] = df['Event'].apply(lambda x: re.split(' https:\\/\\/.*', str(x))[0])\n",
    "\n",
    "# Source: https://stackoverflow.com/questions/51994254/removing-url-from-a-column-in-pandas-dataframe\n"
   ]
  },
  {
   "cell_type": "code",
   "execution_count": 10,
   "id": "19d8c7a5",
   "metadata": {},
   "outputs": [
    {
     "data": {
      "text/plain": [
       "array(['Rated Bullet game', 'Rated Blitz game', 'Rated Rapid game',\n",
       "       'Rated Correspondence game', 'Rated UltraBullet game',\n",
       "       'Rated Blitz tournament', 'Rated Bullet tournament',\n",
       "       'Rated Classical game', 'Rated Rapid tournament',\n",
       "       'Rated Classical tournament', 'Rated UltraBullet tournament'],\n",
       "      dtype=object)"
      ]
     },
     "execution_count": 10,
     "metadata": {},
     "output_type": "execute_result"
    }
   ],
   "source": [
    "df.Event.unique()\n"
   ]
  },
  {
   "cell_type": "code",
   "execution_count": 11,
   "id": "352d4d61",
   "metadata": {},
   "outputs": [
    {
     "data": {
      "text/plain": [
       "Rated Blitz game                40055628\n",
       "Rated Bullet game               30273072\n",
       "Rated Rapid game                11958331\n",
       "Rated Blitz tournament           4442352\n",
       "Rated Bullet tournament          3037172\n",
       "Rated Rapid tournament            989984\n",
       "Rated Classical game              619936\n",
       "Rated UltraBullet game            557872\n",
       "Rated UltraBullet tournament      509807\n",
       "Rated Correspondence game         203343\n",
       "Rated Classical tournament         22943\n",
       "Name: Event, dtype: int64"
      ]
     },
     "execution_count": 11,
     "metadata": {},
     "output_type": "execute_result"
    }
   ],
   "source": [
    "# looking at how many of each event there are.\n",
    "\n",
    "df.Event.value_counts()\n"
   ]
  },
  {
   "cell_type": "code",
   "execution_count": 12,
   "id": "d87dd63a",
   "metadata": {},
   "outputs": [
    {
     "data": {
      "text/plain": [
       "Text(0.5, 0, 'Count')"
      ]
     },
     "execution_count": 12,
     "metadata": {},
     "output_type": "execute_result"
    },
    {
     "data": {
      "image/png": "[encoded data removed]",
      "text/plain": [
       "<Figure size 432x288 with 1 Axes>"
      ]
     },
     "metadata": {
      "needs_background": "light"
     },
     "output_type": "display_data"
    }
   ],
   "source": [
    "# Visual for the above information. \n",
    "\n",
    "fig, ax = plt.subplots()\n",
    "df.Event.value_counts().plot(kind=\"barh\")\n",
    "ax.set_title(\"Event Type\")\n",
    "ax.set_xlabel(\"Count\")\n"
   ]
  },
  {
   "cell_type": "code",
   "execution_count": 13,
   "id": "a02e4b2f",
   "metadata": {},
   "outputs": [],
   "source": [
    "df_Blitz = df.loc[df['Event'].isin([\"Rated Blitz tournament\"]) | df['Event'].isin([\"Rated Blitz game\"])] "
   ]
  },
  {
   "cell_type": "code",
   "execution_count": 14,
   "id": "ad1389db",
   "metadata": {},
   "outputs": [
    {
     "data": {
      "text/html": [
       "<div>\n",
       "<style scoped>\n",
       "    .dataframe tbody tr th:only-of-type {\n",
       "        vertical-align: middle;\n",
       "    }\n",
       "\n",
       "    .dataframe tbody tr th {\n",
       "        vertical-align: top;\n",
       "    }\n",
       "\n",
       "    .dataframe thead th {\n",
       "        text-align: right;\n",
       "    }\n",
       "</style>\n",
       "<table border=\"1\" class=\"dataframe\">\n",
       "  <thead>\n",
       "    <tr style=\"text-align: right;\">\n",
       "      <th></th>\n",
       "      <th>Event</th>\n",
       "      <th>White Elo</th>\n",
       "      <th>Black Elo</th>\n",
       "      <th>Result</th>\n",
       "      <th>Termination</th>\n",
       "      <th>Time Control</th>\n",
       "      <th>Opening</th>\n",
       "      <th>Game URL</th>\n",
       "    </tr>\n",
       "  </thead>\n",
       "  <tbody>\n",
       "    <tr>\n",
       "      <th>13</th>\n",
       "      <td>Rated Blitz game</td>\n",
       "      <td>1429</td>\n",
       "      <td>1460</td>\n",
       "      <td>1-0</td>\n",
       "      <td>Normal</td>\n",
       "      <td>300+3</td>\n",
       "      <td>Sicilian Defense: Bowdler Attack</td>\n",
       "      <td>https://lichess.org/bVgQVZ7L</td>\n",
       "    </tr>\n",
       "    <tr>\n",
       "      <th>14</th>\n",
       "      <td>Rated Blitz game</td>\n",
       "      <td>1687</td>\n",
       "      <td>1647</td>\n",
       "      <td>1-0</td>\n",
       "      <td>Time forfeit</td>\n",
       "      <td>300+3</td>\n",
       "      <td>King's Pawn Game: Leonardis Variation</td>\n",
       "      <td>https://lichess.org/2ORvpVTt</td>\n",
       "    </tr>\n",
       "    <tr>\n",
       "      <th>15</th>\n",
       "      <td>Rated Blitz game</td>\n",
       "      <td>1778</td>\n",
       "      <td>1837</td>\n",
       "      <td>1-0</td>\n",
       "      <td>Normal</td>\n",
       "      <td>300+3</td>\n",
       "      <td>Queen's Gambit Declined: Neo-Orthodox Variatio...</td>\n",
       "      <td>https://lichess.org/rNNyi2Xh</td>\n",
       "    </tr>\n",
       "    <tr>\n",
       "      <th>16</th>\n",
       "      <td>Rated Blitz game</td>\n",
       "      <td>1101</td>\n",
       "      <td>1086</td>\n",
       "      <td>0-1</td>\n",
       "      <td>Normal</td>\n",
       "      <td>300+3</td>\n",
       "      <td>Queen's Gambit Declined: Marshall Defense</td>\n",
       "      <td>https://lichess.org/cLhZKY8t</td>\n",
       "    </tr>\n",
       "    <tr>\n",
       "      <th>17</th>\n",
       "      <td>Rated Blitz game</td>\n",
       "      <td>1362</td>\n",
       "      <td>1408</td>\n",
       "      <td>0-1</td>\n",
       "      <td>Normal</td>\n",
       "      <td>300+3</td>\n",
       "      <td>Sicilian Defense: Smith-Morra Gambit</td>\n",
       "      <td>https://lichess.org/aVEa6ISS</td>\n",
       "    </tr>\n",
       "    <tr>\n",
       "      <th>...</th>\n",
       "      <td>...</td>\n",
       "      <td>...</td>\n",
       "      <td>...</td>\n",
       "      <td>...</td>\n",
       "      <td>...</td>\n",
       "      <td>...</td>\n",
       "      <td>...</td>\n",
       "      <td>...</td>\n",
       "    </tr>\n",
       "    <tr>\n",
       "      <th>92670391</th>\n",
       "      <td>Rated Blitz game</td>\n",
       "      <td>1921</td>\n",
       "      <td>1880</td>\n",
       "      <td>1-0</td>\n",
       "      <td>Normal</td>\n",
       "      <td>180+2</td>\n",
       "      <td>Italian Game: Two Knights Defense</td>\n",
       "      <td>https://lichess.org/551QszBW</td>\n",
       "    </tr>\n",
       "    <tr>\n",
       "      <th>92670395</th>\n",
       "      <td>Rated Blitz game</td>\n",
       "      <td>2043</td>\n",
       "      <td>2072</td>\n",
       "      <td>1/2-1/2</td>\n",
       "      <td>Normal</td>\n",
       "      <td>180+0</td>\n",
       "      <td>Caro-Kann Defense: Panov Attack, Modern Defense</td>\n",
       "      <td>https://lichess.org/JcVTknmL</td>\n",
       "    </tr>\n",
       "    <tr>\n",
       "      <th>92670396</th>\n",
       "      <td>Rated Blitz game</td>\n",
       "      <td>1726</td>\n",
       "      <td>1743</td>\n",
       "      <td>0-1</td>\n",
       "      <td>Normal</td>\n",
       "      <td>300+0</td>\n",
       "      <td>Queen's Gambit Declined: Chigorin Defense</td>\n",
       "      <td>https://lichess.org/AHApTIJR</td>\n",
       "    </tr>\n",
       "    <tr>\n",
       "      <th>92670397</th>\n",
       "      <td>Rated Blitz game</td>\n",
       "      <td>1384</td>\n",
       "      <td>1282</td>\n",
       "      <td>1-0</td>\n",
       "      <td>Normal</td>\n",
       "      <td>300+0</td>\n",
       "      <td>Sicilian Defense: Closed, Traditional</td>\n",
       "      <td>https://lichess.org/2ey2bcZf</td>\n",
       "    </tr>\n",
       "    <tr>\n",
       "      <th>92670398</th>\n",
       "      <td>Rated Blitz game</td>\n",
       "      <td>2165</td>\n",
       "      <td>2158</td>\n",
       "      <td>0-1</td>\n",
       "      <td>Normal</td>\n",
       "      <td>300+0</td>\n",
       "      <td>Nimzo-Indian Defense</td>\n",
       "      <td>https://lichess.org/3Z7IxF1H</td>\n",
       "    </tr>\n",
       "  </tbody>\n",
       "</table>\n",
       "<p>44497960 rows × 8 columns</p>\n",
       "</div>"
      ],
      "text/plain": [
       "                     Event  White Elo  Black Elo   Result   Termination  \\\n",
       "13        Rated Blitz game       1429       1460      1-0        Normal   \n",
       "14        Rated Blitz game       1687       1647      1-0  Time forfeit   \n",
       "15        Rated Blitz game       1778       1837      1-0        Normal   \n",
       "16        Rated Blitz game       1101       1086      0-1        Normal   \n",
       "17        Rated Blitz game       1362       1408      0-1        Normal   \n",
       "...                    ...        ...        ...      ...           ...   \n",
       "92670391  Rated Blitz game       1921       1880      1-0        Normal   \n",
       "92670395  Rated Blitz game       2043       2072  1/2-1/2        Normal   \n",
       "92670396  Rated Blitz game       1726       1743      0-1        Normal   \n",
       "92670397  Rated Blitz game       1384       1282      1-0        Normal   \n",
       "92670398  Rated Blitz game       2165       2158      0-1        Normal   \n",
       "\n",
       "         Time Control                                            Opening  \\\n",
       "13              300+3                   Sicilian Defense: Bowdler Attack   \n",
       "14              300+3              King's Pawn Game: Leonardis Variation   \n",
       "15              300+3  Queen's Gambit Declined: Neo-Orthodox Variatio...   \n",
       "16              300+3          Queen's Gambit Declined: Marshall Defense   \n",
       "17              300+3               Sicilian Defense: Smith-Morra Gambit   \n",
       "...               ...                                                ...   \n",
       "92670391        180+2                  Italian Game: Two Knights Defense   \n",
       "92670395        180+0    Caro-Kann Defense: Panov Attack, Modern Defense   \n",
       "92670396        300+0          Queen's Gambit Declined: Chigorin Defense   \n",
       "92670397        300+0              Sicilian Defense: Closed, Traditional   \n",
       "92670398        300+0                               Nimzo-Indian Defense   \n",
       "\n",
       "                              Game URL  \n",
       "13        https://lichess.org/bVgQVZ7L  \n",
       "14        https://lichess.org/2ORvpVTt  \n",
       "15        https://lichess.org/rNNyi2Xh  \n",
       "16        https://lichess.org/cLhZKY8t  \n",
       "17        https://lichess.org/aVEa6ISS  \n",
       "...                                ...  \n",
       "92670391  https://lichess.org/551QszBW  \n",
       "92670395  https://lichess.org/JcVTknmL  \n",
       "92670396  https://lichess.org/AHApTIJR  \n",
       "92670397  https://lichess.org/2ey2bcZf  \n",
       "92670398  https://lichess.org/3Z7IxF1H  \n",
       "\n",
       "[44497960 rows x 8 columns]"
      ]
     },
     "execution_count": 14,
     "metadata": {},
     "output_type": "execute_result"
    }
   ],
   "source": [
    "df_Blitz.head(-20)"
   ]
  },
  {
   "cell_type": "code",
   "execution_count": 15,
   "id": "841cb008",
   "metadata": {},
   "outputs": [
    {
     "data": {
      "text/plain": [
       "Rated Blitz game          40055628\n",
       "Rated Blitz tournament     4442352\n",
       "Name: Event, dtype: int64"
      ]
     },
     "execution_count": 15,
     "metadata": {},
     "output_type": "execute_result"
    }
   ],
   "source": [
    "df_Blitz['Event'].value_counts()"
   ]
  },
  {
   "cell_type": "markdown",
   "id": "319f318f",
   "metadata": {},
   "source": [
    "Something to know, and that the data won't share, is that each event type has a different elo. \n",
    "The elo shown is for that specific Event. After talking with my mentor, we concluded that it is best to look at just one rating band for now and maybe expand the project later on. From now on, we will only be looking at Blitz games as they are the most popular. \n"
   ]
  },
  {
   "cell_type": "code",
   "execution_count": 16,
   "id": "18576c9c",
   "metadata": {},
   "outputs": [
    {
     "data": {
      "text/plain": [
       "3526"
      ]
     },
     "execution_count": 16,
     "metadata": {},
     "output_type": "execute_result"
    }
   ],
   "source": [
    "df_Blitz['White Elo'].max()"
   ]
  },
  {
   "cell_type": "code",
   "execution_count": 17,
   "id": "dbf2a1a7",
   "metadata": {},
   "outputs": [
    {
     "data": {
      "text/plain": [
       "600"
      ]
     },
     "execution_count": 17,
     "metadata": {},
     "output_type": "execute_result"
    }
   ],
   "source": [
    "df_Blitz[\"White Elo\"].min()"
   ]
  },
  {
   "cell_type": "code",
   "execution_count": 18,
   "id": "c2220ae9",
   "metadata": {},
   "outputs": [
    {
     "data": {
      "text/plain": [
       "2506"
      ]
     },
     "execution_count": 18,
     "metadata": {},
     "output_type": "execute_result"
    }
   ],
   "source": [
    "df_Blitz[\"White Elo\"].nunique()"
   ]
  },
  {
   "cell_type": "code",
   "execution_count": 19,
   "id": "2715b881",
   "metadata": {},
   "outputs": [
    {
     "data": {
      "text/plain": [
       "3553"
      ]
     },
     "execution_count": 19,
     "metadata": {},
     "output_type": "execute_result"
    }
   ],
   "source": [
    "df_Blitz[\"Black Elo\"].max()"
   ]
  },
  {
   "cell_type": "code",
   "execution_count": 20,
   "id": "6f04405f",
   "metadata": {},
   "outputs": [
    {
     "data": {
      "text/plain": [
       "600"
      ]
     },
     "execution_count": 20,
     "metadata": {},
     "output_type": "execute_result"
    }
   ],
   "source": [
    "df_Blitz[\"Black Elo\"].min()"
   ]
  },
  {
   "cell_type": "code",
   "execution_count": 21,
   "id": "105eeafd",
   "metadata": {},
   "outputs": [
    {
     "data": {
      "text/plain": [
       "2505"
      ]
     },
     "execution_count": 21,
     "metadata": {},
     "output_type": "execute_result"
    }
   ],
   "source": [
    "df_Blitz[\"Black Elo\"].nunique()"
   ]
  },
  {
   "cell_type": "code",
   "execution_count": 22,
   "id": "8d0f3b5c",
   "metadata": {},
   "outputs": [
    {
     "data": {
      "text/plain": [
       "array(['1-0', '0-1', '1/2-1/2', '*'], dtype=object)"
      ]
     },
     "execution_count": 22,
     "metadata": {},
     "output_type": "execute_result"
    }
   ],
   "source": [
    "df_Blitz.Result.unique()"
   ]
  },
  {
   "cell_type": "code",
   "execution_count": 23,
   "id": "d75a3501",
   "metadata": {},
   "outputs": [
    {
     "data": {
      "text/plain": [
       "1-0        22048925\n",
       "0-1        20486017\n",
       "1/2-1/2     1901832\n",
       "*             61206\n",
       "Name: Result, dtype: int64"
      ]
     },
     "execution_count": 23,
     "metadata": {},
     "output_type": "execute_result"
    }
   ],
   "source": [
    "df_Blitz['Result'].value_counts()"
   ]
  },
  {
   "cell_type": "code",
   "execution_count": 24,
   "id": "16a12eea",
   "metadata": {},
   "outputs": [
    {
     "data": {
      "text/html": [
       "<div>\n",
       "<style scoped>\n",
       "    .dataframe tbody tr th:only-of-type {\n",
       "        vertical-align: middle;\n",
       "    }\n",
       "\n",
       "    .dataframe tbody tr th {\n",
       "        vertical-align: top;\n",
       "    }\n",
       "\n",
       "    .dataframe thead th {\n",
       "        text-align: right;\n",
       "    }\n",
       "</style>\n",
       "<table border=\"1\" class=\"dataframe\">\n",
       "  <thead>\n",
       "    <tr style=\"text-align: right;\">\n",
       "      <th></th>\n",
       "      <th>Event</th>\n",
       "      <th>White Elo</th>\n",
       "      <th>Black Elo</th>\n",
       "      <th>Result</th>\n",
       "      <th>Termination</th>\n",
       "      <th>Time Control</th>\n",
       "      <th>Opening</th>\n",
       "      <th>Game URL</th>\n",
       "    </tr>\n",
       "  </thead>\n",
       "  <tbody>\n",
       "    <tr>\n",
       "      <th>2578354</th>\n",
       "      <td>Rated Blitz tournament</td>\n",
       "      <td>1663</td>\n",
       "      <td>2182</td>\n",
       "      <td>*</td>\n",
       "      <td>Abandoned</td>\n",
       "      <td>300+0</td>\n",
       "      <td>Horwitz Defense</td>\n",
       "      <td>https://lichess.org/r3Hi5GPv</td>\n",
       "    </tr>\n",
       "    <tr>\n",
       "      <th>3316173</th>\n",
       "      <td>Rated Blitz game</td>\n",
       "      <td>978</td>\n",
       "      <td>960</td>\n",
       "      <td>*</td>\n",
       "      <td>Abandoned</td>\n",
       "      <td>300+0</td>\n",
       "      <td>Queen's Pawn Game: Mason Variation</td>\n",
       "      <td>https://lichess.org/3K2mvl9X</td>\n",
       "    </tr>\n",
       "    <tr>\n",
       "      <th>3383496</th>\n",
       "      <td>Rated Blitz game</td>\n",
       "      <td>1577</td>\n",
       "      <td>1606</td>\n",
       "      <td>*</td>\n",
       "      <td>Abandoned</td>\n",
       "      <td>300+0</td>\n",
       "      <td>Owen Defense</td>\n",
       "      <td>https://lichess.org/z1HmXlnd</td>\n",
       "    </tr>\n",
       "    <tr>\n",
       "      <th>3384403</th>\n",
       "      <td>Rated Blitz game</td>\n",
       "      <td>1715</td>\n",
       "      <td>1776</td>\n",
       "      <td>*</td>\n",
       "      <td>Abandoned</td>\n",
       "      <td>180+2</td>\n",
       "      <td>Scandinavian Defense</td>\n",
       "      <td>https://lichess.org/dts8SV4O</td>\n",
       "    </tr>\n",
       "    <tr>\n",
       "      <th>3384663</th>\n",
       "      <td>Rated Blitz game</td>\n",
       "      <td>1140</td>\n",
       "      <td>1186</td>\n",
       "      <td>*</td>\n",
       "      <td>Abandoned</td>\n",
       "      <td>300+0</td>\n",
       "      <td>King's Pawn Game: Wayward Queen Attack</td>\n",
       "      <td>https://lichess.org/pBT7IlrH</td>\n",
       "    </tr>\n",
       "    <tr>\n",
       "      <th>...</th>\n",
       "      <td>...</td>\n",
       "      <td>...</td>\n",
       "      <td>...</td>\n",
       "      <td>...</td>\n",
       "      <td>...</td>\n",
       "      <td>...</td>\n",
       "      <td>...</td>\n",
       "      <td>...</td>\n",
       "    </tr>\n",
       "    <tr>\n",
       "      <th>92669586</th>\n",
       "      <td>Rated Blitz game</td>\n",
       "      <td>1509</td>\n",
       "      <td>1483</td>\n",
       "      <td>*</td>\n",
       "      <td>Abandoned</td>\n",
       "      <td>180+0</td>\n",
       "      <td>King's Pawn</td>\n",
       "      <td>https://lichess.org/jOyoiazp</td>\n",
       "    </tr>\n",
       "    <tr>\n",
       "      <th>92669599</th>\n",
       "      <td>Rated Blitz game</td>\n",
       "      <td>1206</td>\n",
       "      <td>1127</td>\n",
       "      <td>*</td>\n",
       "      <td>Abandoned</td>\n",
       "      <td>300+0</td>\n",
       "      <td>Van't Kruijs Opening</td>\n",
       "      <td>https://lichess.org/CBUxXrnU</td>\n",
       "    </tr>\n",
       "    <tr>\n",
       "      <th>92669768</th>\n",
       "      <td>Rated Blitz game</td>\n",
       "      <td>1327</td>\n",
       "      <td>1315</td>\n",
       "      <td>*</td>\n",
       "      <td>Abandoned</td>\n",
       "      <td>300+0</td>\n",
       "      <td>?</td>\n",
       "      <td>https://lichess.org/q00xfpRz</td>\n",
       "    </tr>\n",
       "    <tr>\n",
       "      <th>92669803</th>\n",
       "      <td>Rated Blitz game</td>\n",
       "      <td>2263</td>\n",
       "      <td>1982</td>\n",
       "      <td>*</td>\n",
       "      <td>Abandoned</td>\n",
       "      <td>180+0</td>\n",
       "      <td>?</td>\n",
       "      <td>https://lichess.org/a8iKh4gK</td>\n",
       "    </tr>\n",
       "    <tr>\n",
       "      <th>92669809</th>\n",
       "      <td>Rated Blitz game</td>\n",
       "      <td>1778</td>\n",
       "      <td>1801</td>\n",
       "      <td>*</td>\n",
       "      <td>Abandoned</td>\n",
       "      <td>180+0</td>\n",
       "      <td>Zukertort Opening</td>\n",
       "      <td>https://lichess.org/YICauZIV</td>\n",
       "    </tr>\n",
       "  </tbody>\n",
       "</table>\n",
       "<p>61186 rows × 8 columns</p>\n",
       "</div>"
      ],
      "text/plain": [
       "                           Event  White Elo  Black Elo Result Termination  \\\n",
       "2578354   Rated Blitz tournament       1663       2182      *   Abandoned   \n",
       "3316173         Rated Blitz game        978        960      *   Abandoned   \n",
       "3383496         Rated Blitz game       1577       1606      *   Abandoned   \n",
       "3384403         Rated Blitz game       1715       1776      *   Abandoned   \n",
       "3384663         Rated Blitz game       1140       1186      *   Abandoned   \n",
       "...                          ...        ...        ...    ...         ...   \n",
       "92669586        Rated Blitz game       1509       1483      *   Abandoned   \n",
       "92669599        Rated Blitz game       1206       1127      *   Abandoned   \n",
       "92669768        Rated Blitz game       1327       1315      *   Abandoned   \n",
       "92669803        Rated Blitz game       2263       1982      *   Abandoned   \n",
       "92669809        Rated Blitz game       1778       1801      *   Abandoned   \n",
       "\n",
       "         Time Control                                 Opening  \\\n",
       "2578354         300+0                         Horwitz Defense   \n",
       "3316173         300+0      Queen's Pawn Game: Mason Variation   \n",
       "3383496         300+0                            Owen Defense   \n",
       "3384403         180+2                    Scandinavian Defense   \n",
       "3384663         300+0  King's Pawn Game: Wayward Queen Attack   \n",
       "...               ...                                     ...   \n",
       "92669586        180+0                             King's Pawn   \n",
       "92669599        300+0                    Van't Kruijs Opening   \n",
       "92669768        300+0                                       ?   \n",
       "92669803        180+0                                       ?   \n",
       "92669809        180+0                       Zukertort Opening   \n",
       "\n",
       "                              Game URL  \n",
       "2578354   https://lichess.org/r3Hi5GPv  \n",
       "3316173   https://lichess.org/3K2mvl9X  \n",
       "3383496   https://lichess.org/z1HmXlnd  \n",
       "3384403   https://lichess.org/dts8SV4O  \n",
       "3384663   https://lichess.org/pBT7IlrH  \n",
       "...                                ...  \n",
       "92669586  https://lichess.org/jOyoiazp  \n",
       "92669599  https://lichess.org/CBUxXrnU  \n",
       "92669768  https://lichess.org/q00xfpRz  \n",
       "92669803  https://lichess.org/a8iKh4gK  \n",
       "92669809  https://lichess.org/YICauZIV  \n",
       "\n",
       "[61186 rows x 8 columns]"
      ]
     },
     "execution_count": 24,
     "metadata": {},
     "output_type": "execute_result"
    }
   ],
   "source": [
    "'''\n",
    "\"1-0\" means white won\n",
    "\"0-1\" means black won\n",
    "\"1/2-1/2\" means there was a draw\n",
    "not sure what \"*\" means. Will have to explore and see if we keep the data. \n",
    "'''\n",
    "\n",
    "result_star = df_Blitz.loc[df['Result'] == '*']\n",
    "result_star.head(-20)\n",
    "\n",
    "# My suspicions are that this value (\"*\") is present when the termination was either unterminated or a game was abandoned. \n",
    "# Unterminated means that the game has not finished this month.\n",
    "# Abandoned means that the game was either canceled due to website timeout (usually because of maintanance) or either player did not move their first move. \n",
    "# We will explore this a little further and most likely remove this data. \n"
   ]
  },
  {
   "cell_type": "code",
   "execution_count": 25,
   "id": "058aebb5",
   "metadata": {},
   "outputs": [
    {
     "data": {
      "text/plain": [
       "Abandoned       61148\n",
       "Unterminated       58\n",
       "Name: Termination, dtype: int64"
      ]
     },
     "execution_count": 25,
     "metadata": {},
     "output_type": "execute_result"
    }
   ],
   "source": [
    "result_star[\"Termination\"].value_counts()\n"
   ]
  },
  {
   "cell_type": "code",
   "execution_count": 26,
   "id": "53610226",
   "metadata": {},
   "outputs": [
    {
     "data": {
      "text/plain": [
       "Normal              61739431\n",
       "Time forfeit        30534121\n",
       "Abandoned             356864\n",
       "Unterminated           36351\n",
       "Rules infraction        3673\n",
       "Name: Termination, dtype: int64"
      ]
     },
     "execution_count": 26,
     "metadata": {},
     "output_type": "execute_result"
    }
   ],
   "source": [
    "df[\"Termination\"].value_counts()\n"
   ]
  },
  {
   "cell_type": "code",
   "execution_count": 27,
   "id": "9fc63a82",
   "metadata": {},
   "outputs": [],
   "source": [
    "# It appears that all unterminated games had a \"*\" as their Result. We will be deleting them. \n",
    "# As for Abondoned, we will also be deleting the ones present in the \"*\" group but most likely keeping the ones with results. \n",
    "# We will be deleting all results with \"*\"\n",
    "# Sometimes online chess players will simply stop playing after they start losing or they were disconnected due to unforeseen events. Either way, a result is present and that data could potentially be relevant in the future. \n",
    "# Rules infraction means that someone was caught cheating. \n"
   ]
  },
  {
   "cell_type": "code",
   "execution_count": 28,
   "id": "082e0071",
   "metadata": {},
   "outputs": [],
   "source": [
    "# removing results with \"*\"\n",
    "df2 = df_Blitz[df_Blitz.Result != '*']"
   ]
  },
  {
   "cell_type": "code",
   "execution_count": 29,
   "id": "6b2beb2f",
   "metadata": {
    "scrolled": true
   },
   "outputs": [
    {
     "data": {
      "text/plain": [
       "1-0        22048925\n",
       "0-1        20486017\n",
       "1/2-1/2     1901832\n",
       "Name: Result, dtype: int64"
      ]
     },
     "execution_count": 29,
     "metadata": {},
     "output_type": "execute_result"
    }
   ],
   "source": [
    "# We now have all decisive results\n",
    "\n",
    "df2['Result'].value_counts()"
   ]
  },
  {
   "cell_type": "code",
   "execution_count": 30,
   "id": "caac6c60",
   "metadata": {},
   "outputs": [
    {
     "data": {
      "text/plain": [
       "Normal              33583414\n",
       "Time forfeit        10725694\n",
       "Abandoned             126563\n",
       "Rules infraction        1103\n",
       "Name: Termination, dtype: int64"
      ]
     },
     "execution_count": 30,
     "metadata": {},
     "output_type": "execute_result"
    }
   ],
   "source": [
    "df2[\"Termination\"].value_counts()\n"
   ]
  },
  {
   "cell_type": "code",
   "execution_count": 31,
   "id": "ce33d9cf",
   "metadata": {},
   "outputs": [],
   "source": [
    "# Next, I would like to make sure there are no duplicate games, so I will check to see if there are any repeating game URLS. \n",
    "boolean = df['Game URL'].duplicated().any() \n"
   ]
  },
  {
   "cell_type": "code",
   "execution_count": 32,
   "id": "ec1345cf",
   "metadata": {},
   "outputs": [
    {
     "name": "stdout",
     "output_type": "stream",
     "text": [
      "False\n"
     ]
    }
   ],
   "source": [
    "print(boolean)"
   ]
  },
  {
   "cell_type": "code",
   "execution_count": 33,
   "id": "7271c62d",
   "metadata": {},
   "outputs": [],
   "source": [
    "# There are no duplicate Game URLS"
   ]
  },
  {
   "cell_type": "code",
   "execution_count": 34,
   "id": "449a92f8",
   "metadata": {},
   "outputs": [
    {
     "data": {
      "text/plain": [
       "180+0    18162605\n",
       "300+0    13485324\n",
       "180+2     7420359\n",
       "300+3     4698366\n",
       "300+2       96038\n",
       "           ...   \n",
       "90+9           44\n",
       "30+7           29\n",
       "30+6           27\n",
       "30+8           19\n",
       "15+9            6\n",
       "Name: Time Control, Length: 75, dtype: int64"
      ]
     },
     "execution_count": 34,
     "metadata": {},
     "output_type": "execute_result"
    }
   ],
   "source": [
    "df2[\"Time Control\"].value_counts()"
   ]
  },
  {
   "cell_type": "markdown",
   "id": "92b6f472",
   "metadata": {},
   "source": [
    "There are 75 different time controls under Blitz. Some seem too short to be listed under blitz according to https://lichess.org/faq#time-controls. We will explore that. Here are the definitions of events according to Lichess:\n",
    "\n",
    "    Lichess time controls are based on estimated game duration = (clock initial time) + 40 × (clock increment)\n",
    "    For instance, the estimated duration of a 5+3 game is 5 × 60 + 40 × 3 = 420 seconds.\n",
    "\n",
    "    < 29s = UltraBullet\n",
    "    < 179s = Bullet\n",
    "    < 479s = Blitz\n",
    "    < 1499s = Rapid\n",
    "    ≥ 1500s = Classical"
   ]
  },
  {
   "cell_type": "code",
   "execution_count": 35,
   "id": "9159ff61",
   "metadata": {},
   "outputs": [],
   "source": [
    "df_Blitz_too_short = df2.loc[df['Time Control'].isin([\"15+9\", \"120+4\"])] "
   ]
  },
  {
   "cell_type": "code",
   "execution_count": 36,
   "id": "bbe71a82",
   "metadata": {},
   "outputs": [
    {
     "data": {
      "text/html": [
       "<div>\n",
       "<style scoped>\n",
       "    .dataframe tbody tr th:only-of-type {\n",
       "        vertical-align: middle;\n",
       "    }\n",
       "\n",
       "    .dataframe tbody tr th {\n",
       "        vertical-align: top;\n",
       "    }\n",
       "\n",
       "    .dataframe thead th {\n",
       "        text-align: right;\n",
       "    }\n",
       "</style>\n",
       "<table border=\"1\" class=\"dataframe\">\n",
       "  <thead>\n",
       "    <tr style=\"text-align: right;\">\n",
       "      <th></th>\n",
       "      <th>Event</th>\n",
       "      <th>White Elo</th>\n",
       "      <th>Black Elo</th>\n",
       "      <th>Result</th>\n",
       "      <th>Termination</th>\n",
       "      <th>Time Control</th>\n",
       "      <th>Opening</th>\n",
       "      <th>Game URL</th>\n",
       "    </tr>\n",
       "  </thead>\n",
       "  <tbody>\n",
       "    <tr>\n",
       "      <th>341116</th>\n",
       "      <td>Rated Blitz game</td>\n",
       "      <td>1647</td>\n",
       "      <td>1680</td>\n",
       "      <td>0-1</td>\n",
       "      <td>Time forfeit</td>\n",
       "      <td>120+4</td>\n",
       "      <td>Queen's Gambit Accepted</td>\n",
       "      <td>https://lichess.org/m4qaqeuZ</td>\n",
       "    </tr>\n",
       "    <tr>\n",
       "      <th>436878</th>\n",
       "      <td>Rated Blitz game</td>\n",
       "      <td>1681</td>\n",
       "      <td>1617</td>\n",
       "      <td>1-0</td>\n",
       "      <td>Normal</td>\n",
       "      <td>120+4</td>\n",
       "      <td>King's Pawn Game: Leonardis Variation</td>\n",
       "      <td>https://lichess.org/K013mozG</td>\n",
       "    </tr>\n",
       "    <tr>\n",
       "      <th>579111</th>\n",
       "      <td>Rated Blitz game</td>\n",
       "      <td>1307</td>\n",
       "      <td>1076</td>\n",
       "      <td>0-1</td>\n",
       "      <td>Normal</td>\n",
       "      <td>120+4</td>\n",
       "      <td>Sicilian Defense</td>\n",
       "      <td>https://lichess.org/s26fmNr1</td>\n",
       "    </tr>\n",
       "    <tr>\n",
       "      <th>593291</th>\n",
       "      <td>Rated Blitz game</td>\n",
       "      <td>1299</td>\n",
       "      <td>1570</td>\n",
       "      <td>0-1</td>\n",
       "      <td>Normal</td>\n",
       "      <td>120+4</td>\n",
       "      <td>Sicilian Defense: Bowdler Attack</td>\n",
       "      <td>https://lichess.org/li23UMeQ</td>\n",
       "    </tr>\n",
       "    <tr>\n",
       "      <th>749744</th>\n",
       "      <td>Rated Blitz tournament</td>\n",
       "      <td>993</td>\n",
       "      <td>1842</td>\n",
       "      <td>0-1</td>\n",
       "      <td>Normal</td>\n",
       "      <td>120+4</td>\n",
       "      <td>King's Indian Attack: Symmetrical Defense</td>\n",
       "      <td>https://lichess.org/tnEvaE5S</td>\n",
       "    </tr>\n",
       "    <tr>\n",
       "      <th>...</th>\n",
       "      <td>...</td>\n",
       "      <td>...</td>\n",
       "      <td>...</td>\n",
       "      <td>...</td>\n",
       "      <td>...</td>\n",
       "      <td>...</td>\n",
       "      <td>...</td>\n",
       "      <td>...</td>\n",
       "    </tr>\n",
       "    <tr>\n",
       "      <th>92476644</th>\n",
       "      <td>Rated Blitz game</td>\n",
       "      <td>1349</td>\n",
       "      <td>1122</td>\n",
       "      <td>1-0</td>\n",
       "      <td>Normal</td>\n",
       "      <td>120+4</td>\n",
       "      <td>Queen's Gambit Accepted: Rosenthal Variation</td>\n",
       "      <td>https://lichess.org/U0VLk9V6</td>\n",
       "    </tr>\n",
       "    <tr>\n",
       "      <th>92488120</th>\n",
       "      <td>Rated Blitz game</td>\n",
       "      <td>1119</td>\n",
       "      <td>934</td>\n",
       "      <td>1-0</td>\n",
       "      <td>Normal</td>\n",
       "      <td>120+4</td>\n",
       "      <td>French Defense: Steinitz Attack</td>\n",
       "      <td>https://lichess.org/5j6BzXyf</td>\n",
       "    </tr>\n",
       "    <tr>\n",
       "      <th>92592000</th>\n",
       "      <td>Rated Blitz game</td>\n",
       "      <td>1675</td>\n",
       "      <td>1251</td>\n",
       "      <td>1-0</td>\n",
       "      <td>Normal</td>\n",
       "      <td>120+4</td>\n",
       "      <td>Hungarian Opening</td>\n",
       "      <td>https://lichess.org/8duTwBi1</td>\n",
       "    </tr>\n",
       "    <tr>\n",
       "      <th>92649340</th>\n",
       "      <td>Rated Blitz game</td>\n",
       "      <td>1446</td>\n",
       "      <td>1469</td>\n",
       "      <td>1-0</td>\n",
       "      <td>Normal</td>\n",
       "      <td>120+4</td>\n",
       "      <td>Italian Game: Two Knights Defense, Modern Bish...</td>\n",
       "      <td>https://lichess.org/XdTVEPk5</td>\n",
       "    </tr>\n",
       "    <tr>\n",
       "      <th>92666716</th>\n",
       "      <td>Rated Blitz game</td>\n",
       "      <td>1452</td>\n",
       "      <td>1531</td>\n",
       "      <td>0-1</td>\n",
       "      <td>Normal</td>\n",
       "      <td>120+4</td>\n",
       "      <td>Bishop's Opening: Boi Variation</td>\n",
       "      <td>https://lichess.org/5cp4lgk7</td>\n",
       "    </tr>\n",
       "  </tbody>\n",
       "</table>\n",
       "<p>2397 rows × 8 columns</p>\n",
       "</div>"
      ],
      "text/plain": [
       "                           Event  White Elo  Black Elo Result   Termination  \\\n",
       "341116          Rated Blitz game       1647       1680    0-1  Time forfeit   \n",
       "436878          Rated Blitz game       1681       1617    1-0        Normal   \n",
       "579111          Rated Blitz game       1307       1076    0-1        Normal   \n",
       "593291          Rated Blitz game       1299       1570    0-1        Normal   \n",
       "749744    Rated Blitz tournament        993       1842    0-1        Normal   \n",
       "...                          ...        ...        ...    ...           ...   \n",
       "92476644        Rated Blitz game       1349       1122    1-0        Normal   \n",
       "92488120        Rated Blitz game       1119        934    1-0        Normal   \n",
       "92592000        Rated Blitz game       1675       1251    1-0        Normal   \n",
       "92649340        Rated Blitz game       1446       1469    1-0        Normal   \n",
       "92666716        Rated Blitz game       1452       1531    0-1        Normal   \n",
       "\n",
       "         Time Control                                            Opening  \\\n",
       "341116          120+4                            Queen's Gambit Accepted   \n",
       "436878          120+4              King's Pawn Game: Leonardis Variation   \n",
       "579111          120+4                                   Sicilian Defense   \n",
       "593291          120+4                   Sicilian Defense: Bowdler Attack   \n",
       "749744          120+4          King's Indian Attack: Symmetrical Defense   \n",
       "...               ...                                                ...   \n",
       "92476644        120+4       Queen's Gambit Accepted: Rosenthal Variation   \n",
       "92488120        120+4                    French Defense: Steinitz Attack   \n",
       "92592000        120+4                                  Hungarian Opening   \n",
       "92649340        120+4  Italian Game: Two Knights Defense, Modern Bish...   \n",
       "92666716        120+4                    Bishop's Opening: Boi Variation   \n",
       "\n",
       "                              Game URL  \n",
       "341116    https://lichess.org/m4qaqeuZ  \n",
       "436878    https://lichess.org/K013mozG  \n",
       "579111    https://lichess.org/s26fmNr1  \n",
       "593291    https://lichess.org/li23UMeQ  \n",
       "749744    https://lichess.org/tnEvaE5S  \n",
       "...                                ...  \n",
       "92476644  https://lichess.org/U0VLk9V6  \n",
       "92488120  https://lichess.org/5j6BzXyf  \n",
       "92592000  https://lichess.org/8duTwBi1  \n",
       "92649340  https://lichess.org/XdTVEPk5  \n",
       "92666716  https://lichess.org/5cp4lgk7  \n",
       "\n",
       "[2397 rows x 8 columns]"
      ]
     },
     "execution_count": 36,
     "metadata": {},
     "output_type": "execute_result"
    }
   ],
   "source": [
    "df_Blitz_too_short"
   ]
  },
  {
   "cell_type": "markdown",
   "id": "941a7ccf",
   "metadata": {},
   "source": [
    "After exploring the data, it turns out that the data is not perfect and some games are being classified as blitz when they shouldn't be. We will remove those according to Lichess's definition of blitz."
   ]
  },
  {
   "cell_type": "code",
   "execution_count": 37,
   "id": "650b8d0b",
   "metadata": {},
   "outputs": [
    {
     "data": {
      "text/plain": [
       "array(['300+3', '300+0', '180+0', '180+2', '300+1', '300+2', '180+3',\n",
       "       '240+0', '60+5', '120+3', '300+4', '360+0', '180+1', '120+5',\n",
       "       '420+0', '120+2', '240+2', '240+1', '60+10', '60+3', '240+3',\n",
       "       '360+1', '0+8', '180+4', '0+11', '420+1', '30+4', '15+10', '240+5',\n",
       "       '180+5', '360+2', '60+9', '240+4', '30+11', '90+3', '0+5', '30+7',\n",
       "       '180+7', '15+11', '120+8', '15+5', '60+4', '90+5', '120+6', '0+6',\n",
       "       '120+7', '45+5', '0+7', '0+10', '15+7', '30+10', '120+4', '15+6',\n",
       "       '90+9', '180+6', '45+6', '60+7', '60+6', '30+5', '60+8', '45+10',\n",
       "       '90+6', '45+4', '90+4', '0+9', '90+8', '90+7', '30+9', '15+9',\n",
       "       '30+6', '15+8', '45+8', '45+9', '30+8', '45+7'], dtype=object)"
      ]
     },
     "execution_count": 37,
     "metadata": {},
     "output_type": "execute_result"
    }
   ],
   "source": [
    "df2['Time Control'].unique()\n"
   ]
  },
  {
   "cell_type": "code",
   "execution_count": 38,
   "id": "2717ef78",
   "metadata": {},
   "outputs": [],
   "source": [
    "# We will manually select which time controls to keep. \n",
    "df3 = df2.loc[df['Time Control'].isin(['300+3', '300+0', '180+0', '180+2', '300+1', '300+2', '180+3',\n",
    "       '240+0', '300+4', '360+0', '180+1', '420+0', '240+2', '240+1', '240+3',\n",
    "       '360+1', '180+4', '420+1', '240+5', '180+5', '360+2', '240+4', \n",
    "       '180+7', '120+8', '120+6', '120+7', '120+4', '180+6'])] "
   ]
  },
  {
   "cell_type": "code",
   "execution_count": 39,
   "id": "dbbb8555",
   "metadata": {},
   "outputs": [
    {
     "data": {
      "text/plain": [
       "(44332657, 8)"
      ]
     },
     "execution_count": 39,
     "metadata": {},
     "output_type": "execute_result"
    }
   ],
   "source": [
    "# we removed roughly 100k games that did not fit our definition. \n",
    "df3.shape"
   ]
  },
  {
   "cell_type": "code",
   "execution_count": 40,
   "id": "2a6fd5ef",
   "metadata": {},
   "outputs": [
    {
     "data": {
      "text/html": [
       "<div>\n",
       "<style scoped>\n",
       "    .dataframe tbody tr th:only-of-type {\n",
       "        vertical-align: middle;\n",
       "    }\n",
       "\n",
       "    .dataframe tbody tr th {\n",
       "        vertical-align: top;\n",
       "    }\n",
       "\n",
       "    .dataframe thead th {\n",
       "        text-align: right;\n",
       "    }\n",
       "</style>\n",
       "<table border=\"1\" class=\"dataframe\">\n",
       "  <thead>\n",
       "    <tr style=\"text-align: right;\">\n",
       "      <th></th>\n",
       "      <th>Event</th>\n",
       "      <th>White Elo</th>\n",
       "      <th>Black Elo</th>\n",
       "      <th>Result</th>\n",
       "      <th>Termination</th>\n",
       "      <th>Time Control</th>\n",
       "      <th>Opening</th>\n",
       "      <th>Game URL</th>\n",
       "    </tr>\n",
       "  </thead>\n",
       "  <tbody>\n",
       "    <tr>\n",
       "      <th>13</th>\n",
       "      <td>Rated Blitz game</td>\n",
       "      <td>1429</td>\n",
       "      <td>1460</td>\n",
       "      <td>1-0</td>\n",
       "      <td>Normal</td>\n",
       "      <td>300+3</td>\n",
       "      <td>Sicilian Defense: Bowdler Attack</td>\n",
       "      <td>https://lichess.org/bVgQVZ7L</td>\n",
       "    </tr>\n",
       "    <tr>\n",
       "      <th>14</th>\n",
       "      <td>Rated Blitz game</td>\n",
       "      <td>1687</td>\n",
       "      <td>1647</td>\n",
       "      <td>1-0</td>\n",
       "      <td>Time forfeit</td>\n",
       "      <td>300+3</td>\n",
       "      <td>King's Pawn Game: Leonardis Variation</td>\n",
       "      <td>https://lichess.org/2ORvpVTt</td>\n",
       "    </tr>\n",
       "    <tr>\n",
       "      <th>15</th>\n",
       "      <td>Rated Blitz game</td>\n",
       "      <td>1778</td>\n",
       "      <td>1837</td>\n",
       "      <td>1-0</td>\n",
       "      <td>Normal</td>\n",
       "      <td>300+3</td>\n",
       "      <td>Queen's Gambit Declined: Neo-Orthodox Variatio...</td>\n",
       "      <td>https://lichess.org/rNNyi2Xh</td>\n",
       "    </tr>\n",
       "    <tr>\n",
       "      <th>16</th>\n",
       "      <td>Rated Blitz game</td>\n",
       "      <td>1101</td>\n",
       "      <td>1086</td>\n",
       "      <td>0-1</td>\n",
       "      <td>Normal</td>\n",
       "      <td>300+3</td>\n",
       "      <td>Queen's Gambit Declined: Marshall Defense</td>\n",
       "      <td>https://lichess.org/cLhZKY8t</td>\n",
       "    </tr>\n",
       "    <tr>\n",
       "      <th>17</th>\n",
       "      <td>Rated Blitz game</td>\n",
       "      <td>1362</td>\n",
       "      <td>1408</td>\n",
       "      <td>0-1</td>\n",
       "      <td>Normal</td>\n",
       "      <td>300+3</td>\n",
       "      <td>Sicilian Defense: Smith-Morra Gambit</td>\n",
       "      <td>https://lichess.org/aVEa6ISS</td>\n",
       "    </tr>\n",
       "  </tbody>\n",
       "</table>\n",
       "</div>"
      ],
      "text/plain": [
       "               Event  White Elo  Black Elo Result   Termination Time Control  \\\n",
       "13  Rated Blitz game       1429       1460    1-0        Normal        300+3   \n",
       "14  Rated Blitz game       1687       1647    1-0  Time forfeit        300+3   \n",
       "15  Rated Blitz game       1778       1837    1-0        Normal        300+3   \n",
       "16  Rated Blitz game       1101       1086    0-1        Normal        300+3   \n",
       "17  Rated Blitz game       1362       1408    0-1        Normal        300+3   \n",
       "\n",
       "                                              Opening  \\\n",
       "13                   Sicilian Defense: Bowdler Attack   \n",
       "14              King's Pawn Game: Leonardis Variation   \n",
       "15  Queen's Gambit Declined: Neo-Orthodox Variatio...   \n",
       "16          Queen's Gambit Declined: Marshall Defense   \n",
       "17               Sicilian Defense: Smith-Morra Gambit   \n",
       "\n",
       "                        Game URL  \n",
       "13  https://lichess.org/bVgQVZ7L  \n",
       "14  https://lichess.org/2ORvpVTt  \n",
       "15  https://lichess.org/rNNyi2Xh  \n",
       "16  https://lichess.org/cLhZKY8t  \n",
       "17  https://lichess.org/aVEa6ISS  "
      ]
     },
     "execution_count": 40,
     "metadata": {},
     "output_type": "execute_result"
    }
   ],
   "source": [
    "df3.head()"
   ]
  },
  {
   "cell_type": "code",
   "execution_count": 41,
   "id": "7b5008b1",
   "metadata": {},
   "outputs": [],
   "source": [
    "df3.to_csv(r'C:\\Users\\PC\\Desktop\\Springboard Data Science Career Track\\Github Springboard Repository\\Springboard\\DataScience Capstone 2\\lichess_dataframe_Data_Definition.csv')"
   ]
  }
 ],
 "metadata": {
  "kernelspec": {
   "display_name": "Python 3 (ipykernel)",
   "language": "python",
   "name": "python3"
  },
  "language_info": {
   "codemirror_mode": {
    "name": "ipython",
    "version": 3
   },
   "file_extension": ".py",
   "mimetype": "text/x-python",
   "name": "python",
   "nbconvert_exporter": "python",
   "pygments_lexer": "ipython3",
   "version": "3.9.12"
  }
 },
 "nbformat": 4,
 "nbformat_minor": 5
}
