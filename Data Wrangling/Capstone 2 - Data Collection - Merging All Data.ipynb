{
 "cells": [
  {
   "cell_type": "code",
   "execution_count": 1,
   "id": "7880df09",
   "metadata": {},
   "outputs": [],
   "source": [
    "from pathlib import Path\n",
    "import pandas as pd\n",
    "import matplotlib.pyplot as plt\n",
    "import seaborn as sns\n",
    "import os\n"
   ]
  },
  {
   "cell_type": "code",
   "execution_count": 2,
   "id": "25c023ea",
   "metadata": {},
   "outputs": [
    {
     "data": {
      "text/plain": [
       "[WindowsPath('/Users/PC/Desktop/Springboard Data Science Career Track/Github Springboard Repository/Springboard/DataScience Capstone 2/lichess_dataframe_black_elos.csv'),\n",
       " WindowsPath('/Users/PC/Desktop/Springboard Data Science Career Track/Github Springboard Repository/Springboard/DataScience Capstone 2/lichess_dataframe_events.csv'),\n",
       " WindowsPath('/Users/PC/Desktop/Springboard Data Science Career Track/Github Springboard Repository/Springboard/DataScience Capstone 2/lichess_dataframe_game_urls.csv'),\n",
       " WindowsPath('/Users/PC/Desktop/Springboard Data Science Career Track/Github Springboard Repository/Springboard/DataScience Capstone 2/lichess_dataframe_openings.csv'),\n",
       " WindowsPath('/Users/PC/Desktop/Springboard Data Science Career Track/Github Springboard Repository/Springboard/DataScience Capstone 2/lichess_dataframe_results.csv'),\n",
       " WindowsPath('/Users/PC/Desktop/Springboard Data Science Career Track/Github Springboard Repository/Springboard/DataScience Capstone 2/lichess_dataframe_terminations.csv'),\n",
       " WindowsPath('/Users/PC/Desktop/Springboard Data Science Career Track/Github Springboard Repository/Springboard/DataScience Capstone 2/lichess_dataframe_time_controls.csv'),\n",
       " WindowsPath('/Users/PC/Desktop/Springboard Data Science Career Track/Github Springboard Repository/Springboard/DataScience Capstone 2/lichess_dataframe_white_elos.csv')]"
      ]
     },
     "execution_count": 2,
     "metadata": {},
     "output_type": "execute_result"
    }
   ],
   "source": [
    "# We combine all of the individual csv files in order to make one comprehensive workable dataframe. \n",
    "\n",
    "directory = Path(\"/Users\\PC\\Desktop\\Springboard Data Science Career Track\\Github Springboard Repository\\Springboard\\DataScience Capstone 2\")\n",
    "\n",
    "filenames = ['lichess_dataframe_black_elos.csv', \n",
    "             'lichess_dataframe_events.csv',  \n",
    "             'lichess_dataframe_game_urls.csv', \n",
    "             'lichess_dataframe_openings.csv', \n",
    "             'lichess_dataframe_results.csv', \n",
    "             'lichess_dataframe_terminations.csv', \n",
    "             'lichess_dataframe_time_controls.csv', \n",
    "             'lichess_dataframe_white_elos.csv']\n",
    "\n",
    "[directory / filename for filename in filenames]"
   ]
  },
  {
   "cell_type": "code",
   "execution_count": 3,
   "id": "762e2b0a",
   "metadata": {},
   "outputs": [],
   "source": [
    "# axis=1: stack them side-by-side.\n",
    "df = pd.concat([pd.read_csv(directory / filename) for filename in filenames], axis=1)"
   ]
  },
  {
   "cell_type": "code",
   "execution_count": 4,
   "id": "79a3d585",
   "metadata": {},
   "outputs": [
    {
     "name": "stdout",
     "output_type": "stream",
     "text": [
      "<class 'pandas.core.frame.DataFrame'>\n",
      "RangeIndex: 92670440 entries, 0 to 92670439\n",
      "Data columns (total 16 columns):\n",
      " #   Column        Dtype \n",
      "---  ------        ----- \n",
      " 0   Unnamed: 0    int64 \n",
      " 1   Black Elo     int64 \n",
      " 2   Unnamed: 0    int64 \n",
      " 3   Event         object\n",
      " 4   Unnamed: 0    int64 \n",
      " 5   Game URL      object\n",
      " 6   Unnamed: 0    int64 \n",
      " 7   Opening       object\n",
      " 8   Unnamed: 0    int64 \n",
      " 9   Result        object\n",
      " 10  Unnamed: 0    int64 \n",
      " 11  Termination   object\n",
      " 12  Unnamed: 0    int64 \n",
      " 13  Time Control  object\n",
      " 14  Unnamed: 0    int64 \n",
      " 15  White Elo     int64 \n",
      "dtypes: int64(10), object(6)\n",
      "memory usage: 11.0+ GB\n"
     ]
    }
   ],
   "source": [
    "df.info()"
   ]
  },
  {
   "cell_type": "code",
   "execution_count": 5,
   "id": "2cd01019",
   "metadata": {},
   "outputs": [],
   "source": [
    "# Reorganizing and removing columns. \n",
    "\n",
    "df = df[['Event', 'White Elo', 'Black Elo', 'Result', 'Termination', 'Time Control', 'Opening',\"Game URL\"]]"
   ]
  },
  {
   "cell_type": "code",
   "execution_count": 6,
   "id": "c3cf6c1c",
   "metadata": {},
   "outputs": [
    {
     "data": {
      "text/html": [
       "<div>\n",
       "<style scoped>\n",
       "    .dataframe tbody tr th:only-of-type {\n",
       "        vertical-align: middle;\n",
       "    }\n",
       "\n",
       "    .dataframe tbody tr th {\n",
       "        vertical-align: top;\n",
       "    }\n",
       "\n",
       "    .dataframe thead th {\n",
       "        text-align: right;\n",
       "    }\n",
       "</style>\n",
       "<table border=\"1\" class=\"dataframe\">\n",
       "  <thead>\n",
       "    <tr style=\"text-align: right;\">\n",
       "      <th></th>\n",
       "      <th>Event</th>\n",
       "      <th>White Elo</th>\n",
       "      <th>Black Elo</th>\n",
       "      <th>Result</th>\n",
       "      <th>Termination</th>\n",
       "      <th>Time Control</th>\n",
       "      <th>Opening</th>\n",
       "      <th>Game URL</th>\n",
       "    </tr>\n",
       "  </thead>\n",
       "  <tbody>\n",
       "    <tr>\n",
       "      <th>0</th>\n",
       "      <td>Rated Bullet game</td>\n",
       "      <td>1923</td>\n",
       "      <td>1910</td>\n",
       "      <td>1/2-1/2</td>\n",
       "      <td>Time forfeit</td>\n",
       "      <td>60+0</td>\n",
       "      <td>Modern Defense</td>\n",
       "      <td>https://lichess.org/aAcMUViA</td>\n",
       "    </tr>\n",
       "    <tr>\n",
       "      <th>1</th>\n",
       "      <td>Rated Bullet game</td>\n",
       "      <td>1781</td>\n",
       "      <td>1782</td>\n",
       "      <td>0-1</td>\n",
       "      <td>Time forfeit</td>\n",
       "      <td>60+0</td>\n",
       "      <td>Scandinavian Defense: Main Line</td>\n",
       "      <td>https://lichess.org/brBOPdLj</td>\n",
       "    </tr>\n",
       "    <tr>\n",
       "      <th>2</th>\n",
       "      <td>Rated Bullet game</td>\n",
       "      <td>2528</td>\n",
       "      <td>2355</td>\n",
       "      <td>1-0</td>\n",
       "      <td>Normal</td>\n",
       "      <td>60+0</td>\n",
       "      <td>Hungarian Opening: Slav Formation</td>\n",
       "      <td>https://lichess.org/pk0m4lj8</td>\n",
       "    </tr>\n",
       "    <tr>\n",
       "      <th>3</th>\n",
       "      <td>Rated Bullet game</td>\n",
       "      <td>2010</td>\n",
       "      <td>1996</td>\n",
       "      <td>1-0</td>\n",
       "      <td>Time forfeit</td>\n",
       "      <td>60+0</td>\n",
       "      <td>Rat Defense: Antal Defense</td>\n",
       "      <td>https://lichess.org/ZXitDcRa</td>\n",
       "    </tr>\n",
       "    <tr>\n",
       "      <th>4</th>\n",
       "      <td>Rated Bullet game</td>\n",
       "      <td>1805</td>\n",
       "      <td>1831</td>\n",
       "      <td>0-1</td>\n",
       "      <td>Time forfeit</td>\n",
       "      <td>60+0</td>\n",
       "      <td>Four Knights Game: Scotch Variation Accepted</td>\n",
       "      <td>https://lichess.org/j50FcHUm</td>\n",
       "    </tr>\n",
       "  </tbody>\n",
       "</table>\n",
       "</div>"
      ],
      "text/plain": [
       "               Event  White Elo  Black Elo   Result   Termination  \\\n",
       "0  Rated Bullet game       1923       1910  1/2-1/2  Time forfeit   \n",
       "1  Rated Bullet game       1781       1782      0-1  Time forfeit   \n",
       "2  Rated Bullet game       2528       2355      1-0        Normal   \n",
       "3  Rated Bullet game       2010       1996      1-0  Time forfeit   \n",
       "4  Rated Bullet game       1805       1831      0-1  Time forfeit   \n",
       "\n",
       "  Time Control                                       Opening  \\\n",
       "0         60+0                                Modern Defense   \n",
       "1         60+0               Scandinavian Defense: Main Line   \n",
       "2         60+0             Hungarian Opening: Slav Formation   \n",
       "3         60+0                    Rat Defense: Antal Defense   \n",
       "4         60+0  Four Knights Game: Scotch Variation Accepted   \n",
       "\n",
       "                       Game URL  \n",
       "0  https://lichess.org/aAcMUViA  \n",
       "1  https://lichess.org/brBOPdLj  \n",
       "2  https://lichess.org/pk0m4lj8  \n",
       "3  https://lichess.org/ZXitDcRa  \n",
       "4  https://lichess.org/j50FcHUm  "
      ]
     },
     "execution_count": 6,
     "metadata": {},
     "output_type": "execute_result"
    }
   ],
   "source": [
    "df.head()"
   ]
  },
  {
   "cell_type": "code",
   "execution_count": 7,
   "id": "619f0116",
   "metadata": {},
   "outputs": [],
   "source": [
    "df.to_csv(r\"C:\\Users\\PC\\Desktop\\Springboard Data Science Career Track\\Github Springboard Repository\\Springboard\\DataScience Capstone 2\\lichess_dataframe_all.csv\")\n"
   ]
  }
 ],
 "metadata": {
  "kernelspec": {
   "display_name": "Python 3 (ipykernel)",
   "language": "python",
   "name": "python3"
  },
  "language_info": {
   "codemirror_mode": {
    "name": "ipython",
    "version": 3
   },
   "file_extension": ".py",
   "mimetype": "text/x-python",
   "name": "python",
   "nbconvert_exporter": "python",
   "pygments_lexer": "ipython3",
   "version": "3.9.12"
  }
 },
 "nbformat": 4,
 "nbformat_minor": 5
}
