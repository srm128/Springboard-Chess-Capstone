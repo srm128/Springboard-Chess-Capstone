{
 "cells": [
  {
   "cell_type": "code",
   "execution_count": 1,
   "id": "ac4ceeb0",
   "metadata": {},
   "outputs": [],
   "source": [
    "import pandas as pd\n",
    "import numpy as np\n",
    "import re # We import Python's Regular Expressions library\n",
    "\n",
    "\n"
   ]
  },
  {
   "cell_type": "markdown",
   "id": "960099e7",
   "metadata": {},
   "source": [
    "There is roughly 200 gb of data covering over 90 million chess games written as one giant block. \n",
    "Our goal is to create one csv file that neatly organizes the following data: \n",
    "- game_urls\n",
    "- events\n",
    "- white_elos\n",
    "- black_elos\n",
    "- time_controls\n",
    "- results\n",
    "- terminations\n",
    "- openings\n",
    "\n",
    "In order to accomplish this, I looked at patterns in the raw data and defined our own function that utilizes Python's Regular expression in order to extract the needed data. The data file was too large to separate out with one jupyter notebook, so I used one notebook per variable and later combined the data.  "
   ]
  },
  {
   "cell_type": "code",
   "execution_count": 2,
   "id": "df8de115",
   "metadata": {},
   "outputs": [],
   "source": [
    "def get_quoted_value(source_string): \n",
    "     \"\"\"We define out own function. Given a source_string that contains quotes, returns the substring inside the quotes.\"\"\"    \n",
    "    \n",
    "    # We got this pattern from Stack Overflow.\n",
    "    # It's a regular expression pattern to match the substring of whatever is inside the first quotes\n",
    "    quote_pattern = '\\\"(.*?)\\\"'\n",
    "    \n",
    "    # We search in the line string to find the quote pattern ...\n",
    "    # and return the 1st matching group ...\n",
    "    \n",
    "    match = re.search(quote_pattern, line).group(1)\n",
    "    return match\n",
    "\n",
    "\n",
    "lichess_data = r\"C:\\Users\\PC\\Desktop\\Springboard Data Science Career Track\\Github Springboard Repository\\Springboard\\lichess_db_standard_rated_2022_08.pgn\"\n",
    "file = open(lichess_data, mode=\"r\")\n",
    "\n",
    "    # We built lists to hold this data and will later create pandas dataframes. \n",
    "\n",
    "black_elos = []\n",
    "\n",
    "for line in file:\n",
    "\n",
    "    if line.startswith('[BlackElo'):\n",
    "        black_elos.append(get_quoted_value(line))"
   ]
  },
  {
   "cell_type": "code",
   "execution_count": 3,
   "id": "44c36f49",
   "metadata": {},
   "outputs": [
    {
     "name": "stdout",
     "output_type": "stream",
     "text": [
      "black_elos observations:  92670440\n"
     ]
    }
   ],
   "source": [
    "print(\"black_elos observations: \" , len(black_elos))"
   ]
  },
  {
   "cell_type": "code",
   "execution_count": 4,
   "id": "e6d1696b",
   "metadata": {},
   "outputs": [],
   "source": [
    "# We build pandas dataframes from the lists to later combine with the other ones. \n",
    "\n",
    "df = pd.DataFrame(\n",
    "    {\n",
    "        'Black Elo': black_elos\n",
    "    }\n",
    ")\n"
   ]
  },
  {
   "cell_type": "code",
   "execution_count": 5,
   "id": "d68444b0",
   "metadata": {},
   "outputs": [],
   "source": [
    "# Created a csv file that I will merge with others. \n",
    "\n",
    "df.to_csv(r'C:\\Users\\PC\\Desktop\\Springboard Data Science Career Track\\Github Springboard Repository\\Springboard\\DataScience Capstone 2\\lichess_dataframe_black_elos.csv')"
   ]
  },
  {
   "cell_type": "code",
   "execution_count": 6,
   "id": "d5cf14cd",
   "metadata": {},
   "outputs": [
    {
     "data": {
      "text/html": [
       "<div>\n",
       "<style scoped>\n",
       "    .dataframe tbody tr th:only-of-type {\n",
       "        vertical-align: middle;\n",
       "    }\n",
       "\n",
       "    .dataframe tbody tr th {\n",
       "        vertical-align: top;\n",
       "    }\n",
       "\n",
       "    .dataframe thead th {\n",
       "        text-align: right;\n",
       "    }\n",
       "</style>\n",
       "<table border=\"1\" class=\"dataframe\">\n",
       "  <thead>\n",
       "    <tr style=\"text-align: right;\">\n",
       "      <th></th>\n",
       "      <th>Black Elo</th>\n",
       "    </tr>\n",
       "  </thead>\n",
       "  <tbody>\n",
       "    <tr>\n",
       "      <th>0</th>\n",
       "      <td>1910</td>\n",
       "    </tr>\n",
       "    <tr>\n",
       "      <th>1</th>\n",
       "      <td>1782</td>\n",
       "    </tr>\n",
       "    <tr>\n",
       "      <th>2</th>\n",
       "      <td>2355</td>\n",
       "    </tr>\n",
       "    <tr>\n",
       "      <th>3</th>\n",
       "      <td>1996</td>\n",
       "    </tr>\n",
       "    <tr>\n",
       "      <th>4</th>\n",
       "      <td>1831</td>\n",
       "    </tr>\n",
       "    <tr>\n",
       "      <th>...</th>\n",
       "      <td>...</td>\n",
       "    </tr>\n",
       "    <tr>\n",
       "      <th>95</th>\n",
       "      <td>1907</td>\n",
       "    </tr>\n",
       "    <tr>\n",
       "      <th>96</th>\n",
       "      <td>1358</td>\n",
       "    </tr>\n",
       "    <tr>\n",
       "      <th>97</th>\n",
       "      <td>779</td>\n",
       "    </tr>\n",
       "    <tr>\n",
       "      <th>98</th>\n",
       "      <td>1624</td>\n",
       "    </tr>\n",
       "    <tr>\n",
       "      <th>99</th>\n",
       "      <td>2099</td>\n",
       "    </tr>\n",
       "  </tbody>\n",
       "</table>\n",
       "<p>100 rows × 1 columns</p>\n",
       "</div>"
      ],
      "text/plain": [
       "   Black Elo\n",
       "0       1910\n",
       "1       1782\n",
       "2       2355\n",
       "3       1996\n",
       "4       1831\n",
       "..       ...\n",
       "95      1907\n",
       "96      1358\n",
       "97       779\n",
       "98      1624\n",
       "99      2099\n",
       "\n",
       "[100 rows x 1 columns]"
      ]
     },
     "execution_count": 6,
     "metadata": {},
     "output_type": "execute_result"
    }
   ],
   "source": [
    "df.head(100)"
   ]
  }
 ],
 "metadata": {
  "kernelspec": {
   "display_name": "Python 3 (ipykernel)",
   "language": "python",
   "name": "python3"
  },
  "language_info": {
   "codemirror_mode": {
    "name": "ipython",
    "version": 3
   },
   "file_extension": ".py",
   "mimetype": "text/x-python",
   "name": "python",
   "nbconvert_exporter": "python",
   "pygments_lexer": "ipython3",
   "version": "3.9.12"
  }
 },
 "nbformat": 4,
 "nbformat_minor": 5
}
